{
 "cells": [
  {
   "cell_type": "markdown",
   "id": "829e5193",
   "metadata": {},
   "source": [
    "### Assignment-07 (Exceptions)\n",
    "- Change the notebook name with your name and Roll Number.\n",
    "- Try this as your own, no chatgpt (it's for your learning)\n",
    "- after completing the assignment, submit this book on google class room."
   ]
  },
  {
   "cell_type": "markdown",
   "id": "5020de16",
   "metadata": {},
   "source": [
    "Write a Python program that demonstrates a simple try-except block to handle a ZeroDivisionError."
   ]
  },
  {
   "cell_type": "code",
   "execution_count": 4,
   "id": "b2481e98",
   "metadata": {},
   "outputs": [
    {
     "name": "stdout",
     "output_type": "stream",
     "text": [
      "Error: Can't divide with zero\n"
     ]
    }
   ],
   "source": [
    "def division(n1, n2):\n",
    "    try:\n",
    "        result = n1 / n2\n",
    "        print(f\"Result: {result}\")\n",
    "    except ZeroDivisionError:\n",
    "        print(\"Error: Can't divide with zero\")\n",
    "\n",
    "num = 10\n",
    "den = 0\n",
    "division(num, den)"
   ]
  },
  {
   "cell_type": "markdown",
   "id": "510c0b9e",
   "metadata": {},
   "source": [
    "What is the purpose of the else clause in a try-except block? Provide an example."
   ]
  },
  {
   "cell_type": "code",
   "execution_count": 5,
   "id": "19e00491",
   "metadata": {},
   "outputs": [
    {
     "name": "stdout",
     "output_type": "stream",
     "text": [
      "Result: 5.0\n"
     ]
    }
   ],
   "source": [
    "# The else clause will execute if there is no expception is the try block.\n",
    "\n",
    "def division(n1, n2):\n",
    "    try:\n",
    "        result = n1 / n2\n",
    "    except ZeroDivisionError:\n",
    "        print(\"Error: Can't divide with zero\")\n",
    "    else:\n",
    "        print(f\"Result: {result}\")\n",
    "\n",
    "num = 10\n",
    "den = 2\n",
    "division(num, den)"
   ]
  },
  {
   "cell_type": "markdown",
   "id": "213e8438",
   "metadata": {},
   "source": [
    "Explain the role of the finally keyword in exception handling. Write a code snippet to demonstrate its use."
   ]
  },
  {
   "cell_type": "code",
   "execution_count": 7,
   "id": "4f6335f4",
   "metadata": {},
   "outputs": [
    {
     "name": "stdout",
     "output_type": "stream",
     "text": [
      "Result: 5.0\n",
      "It's finally block\n"
     ]
    }
   ],
   "source": [
    "# Finally keyward will always execute, regardless of excpetion occurs or not. It can be used for cleanup operations.\n",
    "\n",
    "def division(n1, n2):\n",
    "    try:\n",
    "        result = n1 / n2\n",
    "    except ZeroDivisionError:\n",
    "        print(\"Error: Can't divide with zero\")\n",
    "    else:\n",
    "        print(f\"Result: {result}\")\n",
    "    finally:\n",
    "        print(\"It's finally block\")\n",
    "\n",
    "num = 10\n",
    "den = 2\n",
    "division(num, den)"
   ]
  },
  {
   "cell_type": "markdown",
   "id": "28a825cd",
   "metadata": {},
   "source": [
    "Write a program that uses a try-except block to handle a FileNotFoundError."
   ]
  },
  {
   "cell_type": "code",
   "execution_count": 8,
   "id": "a40b08be",
   "metadata": {},
   "outputs": [
    {
     "name": "stdout",
     "output_type": "stream",
     "text": [
      "Error: File 'no_file.txt' not found.\n"
     ]
    }
   ],
   "source": [
    "try:\n",
    "    # Attempt to open a file that may not exist\n",
    "    file_path = 'no_file.txt'\n",
    "    with open(file_path, 'r') as file:\n",
    "        content = file.read()\n",
    "        print(f\"Content of the file: {content}\")\n",
    "except FileNotFoundError:\n",
    "    print(f\"Error: File '{file_path}' not found.\")"
   ]
  },
  {
   "cell_type": "markdown",
   "id": "b518674e",
   "metadata": {},
   "source": [
    "Create a Python program that uses multiple except clauses to handle different types of exceptions."
   ]
  },
  {
   "cell_type": "code",
   "execution_count": 11,
   "id": "11a3e481",
   "metadata": {},
   "outputs": [
    {
     "name": "stdout",
     "output_type": "stream",
     "text": [
      "Result: 50.0\n",
      "Error: Invalid value encountered - invalid literal for int() with base 10: 'non-integer'\n"
     ]
    }
   ],
   "source": [
    "def division(n1, n2):\n",
    "    try:\n",
    "        result = n1 / n2\n",
    "        print(f\"Result: {result}\")\n",
    "        value = int(\"non-integer\")  # This line will raise a ValueError\n",
    "    except ZeroDivisionError:\n",
    "        print(\"Error: Cannot divide by zero!\")\n",
    "    except ValueError as ve:\n",
    "        print(f\"Error: Invalid value encountered - {ve}\")\n",
    "    except TypeError:\n",
    "        print(\"Error: Unsupported operation type\")\n",
    "    except Exception as e:\n",
    "        print(f\"An unexpected error occurred: {e}\")\n",
    "\n",
    "division(100, 2)"
   ]
  },
  {
   "cell_type": "markdown",
   "id": "37c93388",
   "metadata": {},
   "source": [
    "Implement a function that raises a custom exception if a given number is negative."
   ]
  },
  {
   "cell_type": "code",
   "execution_count": 12,
   "id": "09a7a16a",
   "metadata": {},
   "outputs": [
    {
     "name": "stdout",
     "output_type": "stream",
     "text": [
      "The number 5 is positive\n",
      "Error: Negative number found: -5\n"
     ]
    }
   ],
   "source": [
    "class NegativeNumberError(Exception):\n",
    "    def __init__(self, number):\n",
    "        super().__init__(f\"Error: Negative number found: {number}\")\n",
    "        self.number = number\n",
    "    \n",
    "def process_positive_number(num):\n",
    "    if num < 0:\n",
    "        raise NegativeNumberError(num)\n",
    "    else:\n",
    "        print(f\"The number {num} is positive\")\n",
    "\n",
    "try:\n",
    "    process_positive_number(5)\n",
    "    process_positive_number(-5) # this line will raise the exception\n",
    "except NegativeNumberError as nne:\n",
    "    print(nne)\n",
    "except Exception as e:\n",
    "    print(f\"Unexpected error occured: {e}\")"
   ]
  },
  {
   "cell_type": "markdown",
   "id": "28762688",
   "metadata": {},
   "source": [
    "Write a function that uses the assert keyword to check if a given list is not empty."
   ]
  },
  {
   "cell_type": "code",
   "execution_count": 2,
   "id": "348bbe48",
   "metadata": {},
   "outputs": [
    {
     "ename": "AssertionError",
     "evalue": "The list is empty",
     "output_type": "error",
     "traceback": [
      "\u001b[0;31m---------------------------------------------------------------------------\u001b[0m",
      "\u001b[0;31mAssertionError\u001b[0m                            Traceback (most recent call last)",
      "Cell \u001b[0;32mIn[2], line 15\u001b[0m\n\u001b[1;32m     12\u001b[0m my_empty_list \u001b[38;5;241m=\u001b[39m []\n\u001b[1;32m     13\u001b[0m my_non_empty_list \u001b[38;5;241m=\u001b[39m [\u001b[38;5;241m1\u001b[39m, \u001b[38;5;241m2\u001b[39m, \u001b[38;5;241m3\u001b[39m]\n\u001b[0;32m---> 15\u001b[0m assert_not_empty(my_empty_list)  \u001b[38;5;66;03m# This will raise an AssertionError with the message \"The list is empty\"\u001b[39;00m\n\u001b[1;32m     16\u001b[0m assert_not_empty(my_non_empty_list)\n",
      "Cell \u001b[0;32mIn[2], line 8\u001b[0m, in \u001b[0;36massert_not_empty\u001b[0;34m(my_list)\u001b[0m\n\u001b[1;32m      7\u001b[0m \u001b[38;5;28;01mdef\u001b[39;00m \u001b[38;5;21massert_not_empty\u001b[39m(my_list):\n\u001b[0;32m----> 8\u001b[0m     \u001b[38;5;28;01massert\u001b[39;00m \u001b[38;5;28mlen\u001b[39m(my_list) \u001b[38;5;241m>\u001b[39m \u001b[38;5;241m0\u001b[39m, \u001b[38;5;124m\"\u001b[39m\u001b[38;5;124mThe list is empty\u001b[39m\u001b[38;5;124m\"\u001b[39m\n\u001b[1;32m      9\u001b[0m     \u001b[38;5;28mprint\u001b[39m(\u001b[38;5;124m\"\u001b[39m\u001b[38;5;124mThe list is not empty!\u001b[39m\u001b[38;5;124m\"\u001b[39m)\n",
      "\u001b[0;31mAssertionError\u001b[0m: The list is empty"
     ]
    }
   ],
   "source": [
    "# def check_not_empty_list(lst):\n",
    "#     assert len(lst) > 0, \"The list must not be empty\"\n",
    "#     print(\"The list is not empty, and its length is:\", len(lst))\n",
    "\n",
    "# check_not_empty_list([1,2,3]) # This will not raise an AssertionError\n",
    "# check_not_empty_list([]) # This will raise an AssertionError\n",
    "def assert_not_empty(my_list):\n",
    "    assert len(my_list) > 0, \"The list is empty\"\n",
    "    print(\"The list is not empty!\")\n",
    "\n",
    "# Example usage:\n",
    "my_empty_list = []\n",
    "my_non_empty_list = [1, 2, 3]\n",
    "\n",
    "assert_not_empty(my_empty_list)  # This will raise an AssertionError with the message \"The list is empty\"\n",
    "assert_not_empty(my_non_empty_list)  # This will print \"The list is not empty!\"\n"
   ]
  },
  {
   "cell_type": "markdown",
   "id": "f7861e8d",
   "metadata": {},
   "source": [
    "Develop a program that reads two numbers from the user and divides them. Handle different exceptions such as ZeroDivisionError and ValueError."
   ]
  },
  {
   "cell_type": "code",
   "execution_count": 14,
   "id": "383e130d",
   "metadata": {},
   "outputs": [
    {
     "name": "stdout",
     "output_type": "stream",
     "text": [
      "Result: 4.0\n"
     ]
    }
   ],
   "source": [
    "try:\n",
    "    n1 = float(input(\"Enter the numerator: \"))\n",
    "    n2 = float(input(\"Enter the denominator: \"))\n",
    "\n",
    "    result = n1 / n2\n",
    "\n",
    "    print(f\"Result: {result}\")\n",
    "\n",
    "except ZeroDivisionError:\n",
    "    print(\"Error: Cannot divide by zero!\")\n",
    "except ValueError:\n",
    "    print(\"Error: Please enter valid numeric values.\")\n",
    "except Exception as e:\n",
    "    print(f\"An unexpected error occurred: {e}\")"
   ]
  },
  {
   "cell_type": "markdown",
   "id": "4a043e90",
   "metadata": {},
   "source": [
    "Write a function that takes a string as input and converts it to an integer. Handle the ValueError exception."
   ]
  },
  {
   "cell_type": "code",
   "execution_count": 15,
   "id": "273b88df",
   "metadata": {},
   "outputs": [
    {
     "name": "stdout",
     "output_type": "stream",
     "text": [
      "34\n"
     ]
    }
   ],
   "source": [
    "def convert_to_integer(input_string):\n",
    "    try:\n",
    "        result = int(input_string)\n",
    "        return result\n",
    "    except ValueError:\n",
    "        print(\"Error: Not a valid integer.\")\n",
    "        return None\n",
    "\n",
    "user_input = input(\"Enter a number: \")\n",
    "converted_number = convert_to_integer(user_input)\n",
    "\n",
    "print(converted_number)"
   ]
  },
  {
   "cell_type": "markdown",
   "id": "e09663a8",
   "metadata": {},
   "source": [
    "Create a program that uses the try, except, else, and finally blocks to open a file, read its contents, and print them."
   ]
  },
  {
   "cell_type": "code",
   "execution_count": 16,
   "id": "5f7daa25",
   "metadata": {},
   "outputs": [
    {
     "name": "stdout",
     "output_type": "stream",
     "text": [
      "File Contents:\n",
      "Python Assessment\n",
      "File processing completed.\n"
     ]
    }
   ],
   "source": [
    "def read_file_contents(file_path):\n",
    "    try:\n",
    "        with open(file_path, 'r') as file:\n",
    "            contents = file.read()\n",
    "    except FileNotFoundError:\n",
    "        print(f\"Error: File '{file_path}' not found.\")\n",
    "    except Exception as e:\n",
    "        print(f\"An unexpected error occurred: {e}\")\n",
    "    else:\n",
    "        print(\"File Contents:\")\n",
    "        print(contents)\n",
    "    finally:\n",
    "        print(\"File processing completed.\")\n",
    "\n",
    "file_path = 'data.txt'\n",
    "read_file_contents(file_path)\n"
   ]
  },
  {
   "cell_type": "markdown",
   "id": "2f976b31",
   "metadata": {},
   "source": [
    "Define a custom exception class named CustomError. Write a program that raises this exception when a certain condition is met."
   ]
  },
  {
   "cell_type": "code",
   "execution_count": 17,
   "id": "58b2c87a",
   "metadata": {},
   "outputs": [
    {
     "name": "stdout",
     "output_type": "stream",
     "text": [
      "The number 5 is positive\n",
      "Error: Negative number found: -5\n"
     ]
    }
   ],
   "source": [
    "class CustomError(Exception):\n",
    "    def __init__(self, number):\n",
    "        super().__init__(f\"Error: Negative number found: {number}\")\n",
    "        self.number = number\n",
    "    \n",
    "def process_positive_number(num):\n",
    "    if num < 0:\n",
    "        raise CustomError(num)\n",
    "    else:\n",
    "        print(f\"The number {num} is positive\")\n",
    "\n",
    "try:\n",
    "    process_positive_number(5)\n",
    "    process_positive_number(-5) # this line will raise the exception\n",
    "except CustomError as ce:\n",
    "    print(ce)\n",
    "except Exception as e:\n",
    "    print(f\"Unexpected error occured: {e}\")"
   ]
  },
  {
   "cell_type": "markdown",
   "id": "4718ee7b",
   "metadata": {},
   "source": [
    "Implement a function that reads a file and prints its content. If the file is not found, raise a FileNotFoundError with a custom error message."
   ]
  },
  {
   "cell_type": "code",
   "execution_count": 18,
   "id": "7d65d3f0",
   "metadata": {},
   "outputs": [
    {
     "name": "stdout",
     "output_type": "stream",
     "text": [
      "Error: File 'example.txt' not found.\n"
     ]
    }
   ],
   "source": [
    "def read_and_print_file(file_path):\n",
    "    try:\n",
    "        with open(file_path, 'r') as file:\n",
    "            contents = file.read()\n",
    "            print(\"File Contents:\")\n",
    "            print(contents)\n",
    "    except FileNotFoundError:\n",
    "        raise FileNotFoundError(f\"Error: File '{file_path}' not found.\")\n",
    "    except Exception as e:\n",
    "        print(f\"An unexpected error occurred: {e}\")\n",
    "\n",
    "# Example usage\n",
    "try:\n",
    "    file_path = 'example.txt'  # Change this to the path of an existing or non-existing file\n",
    "    read_and_print_file(file_path)\n",
    "except FileNotFoundError as fnfe:\n",
    "    print(fnfe)\n"
   ]
  },
  {
   "cell_type": "markdown",
   "id": "368cfff7",
   "metadata": {},
   "source": [
    "Develop a program that uses the assert keyword to check if a given number is positive. If not, raise an AssertionError with a custom message."
   ]
  },
  {
   "cell_type": "code",
   "execution_count": 20,
   "id": "dffe1621",
   "metadata": {},
   "outputs": [
    {
     "ename": "AssertionError",
     "evalue": "AssertionError: The number must be positive, but -5 was provided.",
     "output_type": "error",
     "traceback": [
      "\u001b[0;31m---------------------------------------------------------------------------\u001b[0m",
      "\u001b[0;31mAssertionError\u001b[0m                            Traceback (most recent call last)",
      "Cell \u001b[0;32mIn[20], line 5\u001b[0m\n\u001b[1;32m      2\u001b[0m     \u001b[39massert\u001b[39;00m number \u001b[39m>\u001b[39m\u001b[39m=\u001b[39m \u001b[39m0\u001b[39m, \u001b[39mf\u001b[39m\u001b[39m\"\u001b[39m\u001b[39mAssertionError: The number must be positive, but \u001b[39m\u001b[39m{\u001b[39;00mnumber\u001b[39m}\u001b[39;00m\u001b[39m was provided.\u001b[39m\u001b[39m\"\u001b[39m\n\u001b[1;32m      3\u001b[0m     \u001b[39mprint\u001b[39m(\u001b[39mf\u001b[39m\u001b[39m\"\u001b[39m\u001b[39mThe number \u001b[39m\u001b[39m{\u001b[39;00mnumber\u001b[39m}\u001b[39;00m\u001b[39m is positive.\u001b[39m\u001b[39m\"\u001b[39m)\n\u001b[0;32m----> 5\u001b[0m check_positive_number(\u001b[39m-\u001b[39;49m\u001b[39m5\u001b[39;49m)\n",
      "Cell \u001b[0;32mIn[20], line 2\u001b[0m, in \u001b[0;36mcheck_positive_number\u001b[0;34m(number)\u001b[0m\n\u001b[1;32m      1\u001b[0m \u001b[39mdef\u001b[39;00m \u001b[39mcheck_positive_number\u001b[39m(number):\n\u001b[0;32m----> 2\u001b[0m     \u001b[39massert\u001b[39;00m number \u001b[39m>\u001b[39m\u001b[39m=\u001b[39m \u001b[39m0\u001b[39m, \u001b[39mf\u001b[39m\u001b[39m\"\u001b[39m\u001b[39mAssertionError: The number must be positive, but \u001b[39m\u001b[39m{\u001b[39;00mnumber\u001b[39m}\u001b[39;00m\u001b[39m was provided.\u001b[39m\u001b[39m\"\u001b[39m\n\u001b[1;32m      3\u001b[0m     \u001b[39mprint\u001b[39m(\u001b[39mf\u001b[39m\u001b[39m\"\u001b[39m\u001b[39mThe number \u001b[39m\u001b[39m{\u001b[39;00mnumber\u001b[39m}\u001b[39;00m\u001b[39m is positive.\u001b[39m\u001b[39m\"\u001b[39m)\n",
      "\u001b[0;31mAssertionError\u001b[0m: AssertionError: The number must be positive, but -5 was provided."
     ]
    }
   ],
   "source": [
    "def check_positive_number(number):\n",
    "    assert number >= 0, f\"AssertionError: The number must be positive, but {number} was provided.\"\n",
    "    print(f\"The number {number} is positive.\")\n",
    "\n",
    "check_positive_number(-5)"
   ]
  },
  {
   "cell_type": "markdown",
   "id": "93fd3391",
   "metadata": {},
   "source": [
    "Create a function that calculates the square root of a positive number. Handle the ValueError exception if the user enters a negative number."
   ]
  },
  {
   "cell_type": "code",
   "execution_count": 21,
   "id": "33c71719",
   "metadata": {},
   "outputs": [
    {
     "name": "stdout",
     "output_type": "stream",
     "text": [
      "The square root of 35 is: 5.916079783099616\n",
      "Error: Cannot calculate the square root of a negative number (-35).\n"
     ]
    }
   ],
   "source": [
    "import math\n",
    "\n",
    "def calculate_square_root(number):\n",
    "    try:\n",
    "        result = math.sqrt(number)\n",
    "        print(f\"The square root of {number} is: {result}\")\n",
    "    except ValueError:\n",
    "        print(f\"Error: Cannot calculate the square root of a negative number ({number}).\")\n",
    "\n",
    "calculate_square_root(35)\n",
    "calculate_square_root(-35)"
   ]
  },
  {
   "cell_type": "code",
   "execution_count": null,
   "id": "d21f0e28",
   "metadata": {},
   "outputs": [],
   "source": []
  }
 ],
 "metadata": {
  "kernelspec": {
   "display_name": "Python 3 (ipykernel)",
   "language": "python",
   "name": "python3"
  },
  "language_info": {
   "codemirror_mode": {
    "name": "ipython",
    "version": 3
   },
   "file_extension": ".py",
   "mimetype": "text/x-python",
   "name": "python",
   "nbconvert_exporter": "python",
   "pygments_lexer": "ipython3",
   "version": "3.11.5"
  }
 },
 "nbformat": 4,
 "nbformat_minor": 5
}
