{
 "cells": [
  {
   "cell_type": "markdown",
   "id": "779a9769",
   "metadata": {},
   "source": [
    "### Assignment-07 (Module_in_Python)\n",
    "- Change the notebook name with your name and Roll Number.\n",
    "- Try this as your own, no chatgpt (it's for your learning)\n",
    "- after completing the assignment, submit this book on google class room."
   ]
  },
  {
   "cell_type": "markdown",
   "id": "46e7a5c0",
   "metadata": {},
   "source": [
    "Explain the difference between import module and from module import *. Provide an example for each.\n"
   ]
  },
  {
   "cell_type": "markdown",
   "id": "3d0b06d9",
   "metadata": {},
   "source": [
    "import module:\n",
    "- This will import entire module, we can access its contents using the module name.\n",
    "- We need to add a prefix of module name while accessing its contents."
   ]
  },
  {
   "cell_type": "code",
   "execution_count": 1,
   "id": "3e218580",
   "metadata": {},
   "outputs": [
    {
     "name": "stdout",
     "output_type": "stream",
     "text": [
      "5.0\n"
     ]
    }
   ],
   "source": [
    "# Example\n",
    "import math\n",
    "\n",
    "result = math.sqrt(25)\n",
    "print(result)"
   ]
  },
  {
   "cell_type": "markdown",
   "id": "bc12184b",
   "metadata": {},
   "source": [
    "from module import *:\n",
    "- It will imports all names defined in the module directly into the current namespace.\n",
    "- We should avoid using import * as it can lead to naming conflicts and make the code less readable."
   ]
  },
  {
   "cell_type": "code",
   "execution_count": 4,
   "id": "621d6774",
   "metadata": {},
   "outputs": [
    {
     "name": "stdout",
     "output_type": "stream",
     "text": [
      "5.0\n"
     ]
    }
   ],
   "source": [
    "# Example\n",
    "from math import *\n",
    "\n",
    "result = sqrt(25)\n",
    "print(result)"
   ]
  },
  {
   "cell_type": "markdown",
   "id": "935bbfe7",
   "metadata": {},
   "source": [
    "What is an alias, and how can it be used while importing a module? Provide an example.\n"
   ]
  },
  {
   "cell_type": "markdown",
   "id": "c29daa37",
   "metadata": {},
   "source": [
    "Alias in Importing:\n",
    "- An alias is an alternative name assigned to a module or its contents during the import statement.\n",
    "- It helps in avoiding naming conflicts or providing a shorter name for convenience.\n"
   ]
  },
  {
   "cell_type": "code",
   "execution_count": 5,
   "id": "944a369c",
   "metadata": {},
   "outputs": [
    {
     "name": "stdout",
     "output_type": "stream",
     "text": [
      "5.0\n"
     ]
    }
   ],
   "source": [
    "# Example\n",
    "import math as m\n",
    "\n",
    "result = m.sqrt(25)\n",
    "print(result)"
   ]
  },
  {
   "cell_type": "markdown",
   "id": "1e1d37c8",
   "metadata": {},
   "source": [
    "Demonstrate the use of the importlib module to import a module dynamically."
   ]
  },
  {
   "cell_type": "code",
   "execution_count": 6,
   "id": "cd334b12",
   "metadata": {},
   "outputs": [
    {
     "name": "stdout",
     "output_type": "stream",
     "text": [
      "5.0\n"
     ]
    }
   ],
   "source": [
    "import importlib\n",
    "\n",
    "module_name = \"math\"\n",
    "math_module = importlib.import_module(module_name)\n",
    "\n",
    "result = math_module.sqrt(25)\n",
    "print(result)\n"
   ]
  },
  {
   "cell_type": "markdown",
   "id": "520b6194",
   "metadata": {},
   "source": [
    "Implement a function that takes an angle in degrees and converts it to radians using the math module."
   ]
  },
  {
   "cell_type": "code",
   "execution_count": 7,
   "id": "944626ba",
   "metadata": {},
   "outputs": [
    {
     "name": "stdout",
     "output_type": "stream",
     "text": [
      "45 degrees is equal to 0.7853981633974483 radians.\n"
     ]
    }
   ],
   "source": [
    "import math\n",
    "\n",
    "def degrees_to_radians(degrees):\n",
    "    return math.radians(degrees)\n",
    "\n",
    "angle_in_degrees = 45\n",
    "angle_in_radians = degrees_to_radians(angle_in_degrees)\n",
    "print(f\"{angle_in_degrees} degrees is equal to {angle_in_radians} radians.\")\n"
   ]
  },
  {
   "cell_type": "markdown",
   "id": "b81395fe",
   "metadata": {},
   "source": [
    "Create a program that simulates the rolling of a six-sided die using the random module."
   ]
  },
  {
   "cell_type": "code",
   "execution_count": 8,
   "id": "f5698b8a",
   "metadata": {},
   "outputs": [
    {
     "name": "stdout",
     "output_type": "stream",
     "text": [
      "The die rolled: 4\n",
      "The die rolled: 6\n",
      "The die rolled: 3\n",
      "The die rolled: 2\n",
      "The die rolled: 2\n",
      "The die rolled: 5\n",
      "The die rolled: 5\n",
      "The die rolled: 2\n",
      "The die rolled: 3\n",
      "The die rolled: 5\n"
     ]
    }
   ],
   "source": [
    "import random\n",
    "\n",
    "def roll_die():\n",
    "    return random.randint(1, 6)\n",
    "\n",
    "for _ in range(10):\n",
    "    result = roll_die()\n",
    "    print(f\"The die rolled: {result}\")\n"
   ]
  },
  {
   "cell_type": "markdown",
   "id": "aefd02a7",
   "metadata": {},
   "source": [
    "Implement a timer function that measures the execution time of a piece of code using the time module."
   ]
  },
  {
   "cell_type": "code",
   "execution_count": 10,
   "id": "b779c39c",
   "metadata": {},
   "outputs": [
    {
     "name": "stdout",
     "output_type": "stream",
     "text": [
      "Execution time: 0.010469198226928711 seconds\n"
     ]
    }
   ],
   "source": [
    "import time\n",
    "\n",
    "def timer_function():\n",
    "    start_time = time.time()\n",
    "    \n",
    "    # Code to measure execution time\n",
    "    for _ in range(1000000):\n",
    "        pass\n",
    "    \n",
    "    end_time = time.time()\n",
    "    elapsed_time = end_time - start_time\n",
    "    \n",
    "    print(f\"Execution time: {elapsed_time} seconds\")\n",
    "\n",
    "timer_function()\n"
   ]
  },
  {
   "cell_type": "markdown",
   "id": "6d6cdae3",
   "metadata": {},
   "source": [
    "Write a function that calculates the difference in days between two given dates using the datetime module."
   ]
  },
  {
   "cell_type": "code",
   "execution_count": 11,
   "id": "65c3ce92",
   "metadata": {},
   "outputs": [
    {
     "name": "stdout",
     "output_type": "stream",
     "text": [
      "Days between 2023-01-01 and 2023-12-31: 364 days.\n"
     ]
    }
   ],
   "source": [
    "from datetime import datetime\n",
    "\n",
    "def difference_in_days(date_str1, date_str2):\n",
    "    date_format = \"%Y-%m-%d\"\n",
    "    date1 = datetime.strptime(date_str1, date_format)\n",
    "    date2 = datetime.strptime(date_str2, date_format)\n",
    "    \n",
    "    difference = date2 - date1\n",
    "    return difference.days\n",
    "\n",
    "date1 = \"2023-01-01\"\n",
    "date2 = \"2023-12-31\"\n",
    "days_difference = difference_in_days(date1, date2)\n",
    "print(f\"Days between {date1} and {date2}: {days_difference} days.\")\n"
   ]
  },
  {
   "cell_type": "markdown",
   "id": "729111d8",
   "metadata": {},
   "source": [
    "Implement a program that checks if a given year is a leap year using the calendar module."
   ]
  },
  {
   "cell_type": "code",
   "execution_count": 12,
   "id": "067716aa",
   "metadata": {},
   "outputs": [
    {
     "name": "stdout",
     "output_type": "stream",
     "text": [
      "2023 is not a leap year.\n"
     ]
    }
   ],
   "source": [
    "import calendar\n",
    "\n",
    "def is_leap_year(year):\n",
    "    return calendar.isleap(year)\n",
    "\n",
    "year_to_check = 2023\n",
    "if is_leap_year(year_to_check):\n",
    "    print(f\"{year_to_check} is a leap year.\")\n",
    "else:\n",
    "    print(f\"{year_to_check} is not a leap year.\")\n"
   ]
  },
  {
   "cell_type": "markdown",
   "id": "8c4f73f2",
   "metadata": {},
   "source": [
    "Create a program that checks if a specific file exists in a given directory using the os module."
   ]
  },
  {
   "cell_type": "code",
   "execution_count": 15,
   "id": "f62123d1",
   "metadata": {},
   "outputs": [
    {
     "name": "stdout",
     "output_type": "stream",
     "text": [
      "The file data.txt exists\n"
     ]
    }
   ],
   "source": [
    "import os\n",
    "\n",
    "def file_exists(directory, filename):\n",
    "    file_path = os.path.join(directory, filename)\n",
    "    return os.path.exists(file_path)\n",
    "\n",
    "directory_path = \".\"\n",
    "file_to_check = \"data.txt\"\n",
    "if file_exists(directory_path, file_to_check):\n",
    "    print(f\"The file {file_to_check} exists\")\n",
    "else:\n",
    "    print(f\"The file {file_to_check} does not exist\")\n"
   ]
  },
  {
   "cell_type": "markdown",
   "id": "c1b34e47",
   "metadata": {},
   "source": [
    "Write a program that uses threading to perform parallel execution of three tasks."
   ]
  },
  {
   "cell_type": "code",
   "execution_count": 21,
   "id": "954bcf1d",
   "metadata": {},
   "outputs": [
    {
     "name": "stdout",
     "output_type": "stream",
     "text": [
      "Task 1 is running.\n",
      "Task 2 is running.\n",
      "Task 3 is running.\n"
     ]
    }
   ],
   "source": [
    "import threading\n",
    "\n",
    "def task1():\n",
    "    print(\"Task 1 is running.\")\n",
    "\n",
    "def task2():\n",
    "    print(\"Task 2 is running.\")\n",
    "\n",
    "def task3():\n",
    "    print(\"Task 3 is running.\")\n",
    "\n",
    "# Create threads\n",
    "thread1 = threading.Thread(target=task1)\n",
    "thread2 = threading.Thread(target=task2)\n",
    "thread3 = threading.Thread(target=task3)\n",
    "\n",
    "# Start threads\n",
    "thread1.start()\n",
    "thread2.start()\n",
    "thread3.start()\n",
    "\n",
    "# Wait for threads to finish\n",
    "thread1.join()\n",
    "thread2.join()\n",
    "thread3.join()\n"
   ]
  },
  {
   "cell_type": "markdown",
   "id": "0fdd3e7c",
   "metadata": {},
   "source": [
    "Implement a program that downloads an image from a URL using the urllib module."
   ]
  },
  {
   "cell_type": "code",
   "execution_count": 1,
   "id": "950950d9",
   "metadata": {},
   "outputs": [
    {
     "name": "stdout",
     "output_type": "stream",
     "text": [
      "Image downloaded and saved to downloaded_image.jpg.\n"
     ]
    }
   ],
   "source": [
    "import urllib.request\n",
    "\n",
    "def download_image(url, destination_path):\n",
    "    urllib.request.urlretrieve(url, destination_path)\n",
    "    print(f\"Image downloaded and saved to {destination_path}.\")\n",
    "\n",
    "image_url = \"http://site.meishij.net/r/58/25/3568808/a3568808_142682562777944.jpg\"\n",
    "save_path = \"downloaded_image.jpg\"\n",
    "download_image(image_url, save_path)\n"
   ]
  },
  {
   "cell_type": "code",
   "execution_count": null,
   "id": "d978879f",
   "metadata": {},
   "outputs": [],
   "source": []
  }
 ],
 "metadata": {
  "kernelspec": {
   "display_name": "Python 3 (ipykernel)",
   "language": "python",
   "name": "python3"
  },
  "language_info": {
   "codemirror_mode": {
    "name": "ipython",
    "version": 3
   },
   "file_extension": ".py",
   "mimetype": "text/x-python",
   "name": "python",
   "nbconvert_exporter": "python",
   "pygments_lexer": "ipython3",
   "version": "3.11.5"
  }
 },
 "nbformat": 4,
 "nbformat_minor": 5
}
