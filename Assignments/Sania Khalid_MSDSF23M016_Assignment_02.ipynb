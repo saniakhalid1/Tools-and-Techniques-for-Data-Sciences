{
  "cells": [
    {
      "cell_type": "markdown",
      "id": "1776f63f",
      "metadata": {
        "id": "1776f63f"
      },
      "source": [
        "### Assignment-02\n",
        "- Change the notebook name with your name and Roll Number.\n",
        "- Try this as your own, no chatgpt (it's for your learning)\n",
        "- after completing the assignment, submit this book on google class room."
      ]
    },
    {
      "cell_type": "markdown",
      "id": "5bc28c35",
      "metadata": {
        "id": "5bc28c35"
      },
      "source": [
        "Declare and print a variable with the name \"name\" containing your name.\n"
      ]
    },
    {
      "cell_type": "code",
      "execution_count": 1,
      "id": "4eb1e464",
      "metadata": {
        "colab": {
          "base_uri": "https://localhost:8080/"
        },
        "id": "4eb1e464",
        "outputId": "e4789fcc-f10e-44b3-ee3f-2385d14ff312"
      },
      "outputs": [
        {
          "output_type": "stream",
          "name": "stdout",
          "text": [
            "Sania Khalid\n"
          ]
        }
      ],
      "source": [
        "name = 'Sania Khalid'\n",
        "print(name)"
      ]
    },
    {
      "cell_type": "markdown",
      "id": "b66e672b",
      "metadata": {
        "id": "b66e672b"
      },
      "source": [
        "Create two variables, x and y, and swap their values without using a third variable.\n"
      ]
    },
    {
      "cell_type": "code",
      "execution_count": 5,
      "id": "5734b25c",
      "metadata": {
        "colab": {
          "base_uri": "https://localhost:8080/"
        },
        "id": "5734b25c",
        "outputId": "07c34777-9c26-40a5-e3f2-d81186316a26"
      },
      "outputs": [
        {
          "output_type": "stream",
          "name": "stdout",
          "text": [
            "Before Swapping\n",
            "X : 7\n",
            "Y : 10\n",
            "After Swapping\n",
            "X : 10\n",
            "Y : 7\n"
          ]
        }
      ],
      "source": [
        "x = 7\n",
        "y = 10\n",
        "print(\"Before Swapping\")\n",
        "print(\"X :\",x)\n",
        "print(\"Y :\",y)\n",
        "print(\"After Swapping\")\n",
        "# It contains value of x added with value of y\n",
        "x = x + y\n",
        "# As x now contains sum of x and y so when we subtract value of y from that addition, remainder will be value of x which is stored in variable of y\n",
        "y = x - y\n",
        "#  As x contains sum of x and y and y contains value of x, finded in above step, so after subtracting we will get the value of y which will be assigned to x variable\n",
        "x = x - y\n",
        "print(\"X :\",x)\n",
        "print(\"Y :\",y)"
      ]
    },
    {
      "cell_type": "markdown",
      "id": "68c5f126",
      "metadata": {
        "id": "68c5f126"
      },
      "source": [
        "Calculate the area of a rectangle with length and width stored in variables.\n"
      ]
    },
    {
      "cell_type": "code",
      "execution_count": 7,
      "id": "efead34a",
      "metadata": {
        "colab": {
          "base_uri": "https://localhost:8080/"
        },
        "id": "efead34a",
        "outputId": "5fdd2616-e926-4657-85e7-55356bc5a422"
      },
      "outputs": [
        {
          "output_type": "stream",
          "name": "stdout",
          "text": [
            "Enter length for rectangle:   2\n",
            "Enter Width for rectangle:   4\n",
            "Area is:   8\n"
          ]
        }
      ],
      "source": [
        "Length = int(input(\"Enter length for rectangle:   \"))\n",
        "Width = int(input(\"Enter Width for rectangle:   \"))\n",
        "Area = Length * Width\n",
        "print(\"Area is:  \", Area)"
      ]
    },
    {
      "cell_type": "markdown",
      "id": "e452ae4d",
      "metadata": {
        "id": "e452ae4d"
      },
      "source": [
        "Create a variable with a long string (multi-line) and print its length."
      ]
    },
    {
      "cell_type": "code",
      "execution_count": 9,
      "id": "0f7d6636",
      "metadata": {
        "colab": {
          "base_uri": "https://localhost:8080/"
        },
        "id": "0f7d6636",
        "outputId": "10363042-8f08-43ab-83f9-cb086576b352"
      },
      "outputs": [
        {
          "output_type": "stream",
          "name": "stdout",
          "text": [
            "Enter a long string:  Humpty Dumpty sat on a wall, Humpty Dumpty had a great fall. All the King's horses And all the King's men Cannot put Humpty together again. At the very top of the hay-mow in the barn, the Speckled Hen had made her nest, and each day for twelve days she had laid in it a pretty white egg.\n",
            "Length of multi-line string is:   287\n"
          ]
        }
      ],
      "source": [
        "Long_String = input(\"Enter a long string:  \")\n",
        "# Sample String:  Humpty Dumpty sat on a wall, Humpty Dumpty had a great fall. All the King's horses And all the King's men Cannot put Humpty together again.\n",
        "# At the very top of the hay-mow in the barn, the Speckled Hen had made her nest, and each day for twelve days she had laid in it a pretty white egg.\n",
        "Length = len(Long_String)\n",
        "print(\"Length of multi-line string is:  \", Length)"
      ]
    },
    {
      "cell_type": "markdown",
      "id": "708def01",
      "metadata": {
        "id": "708def01"
      },
      "source": [
        "Create a variable to store your favorite number and print it."
      ]
    },
    {
      "cell_type": "code",
      "execution_count": 10,
      "id": "d810e261",
      "metadata": {
        "colab": {
          "base_uri": "https://localhost:8080/"
        },
        "id": "d810e261",
        "outputId": "e1616be9-a869-4ef2-f9c3-d2e2a8db42df"
      },
      "outputs": [
        {
          "output_type": "stream",
          "name": "stdout",
          "text": [
            "Enter your favorite number:   77\n",
            "My favorite number is:    77\n"
          ]
        }
      ],
      "source": [
        "Favt_Number = int(input(\"Enter your favorite number:   \"))\n",
        "print(\"My favorite number is:   \", Favt_Number)"
      ]
    },
    {
      "cell_type": "markdown",
      "id": "9088a41e",
      "metadata": {
        "id": "9088a41e"
      },
      "source": [
        "Declare and assign values to multiple variables to represent the sides of a triangle. Calculate and print its perimeter.\n"
      ]
    },
    {
      "cell_type": "code",
      "execution_count": 11,
      "id": "13d9d2d2",
      "metadata": {
        "colab": {
          "base_uri": "https://localhost:8080/"
        },
        "id": "13d9d2d2",
        "outputId": "1c80a85c-36e7-49ff-a7f8-0eea7223871c"
      },
      "outputs": [
        {
          "output_type": "stream",
          "name": "stdout",
          "text": [
            "Perimeter of given triangle is:     14\n"
          ]
        }
      ],
      "source": [
        "Base = 4\n",
        "Side_a = 5\n",
        "Side_b = 5\n",
        "perimeter = Base + Side_a + Side_a\n",
        "print(\"Perimeter of given triangle is:    \", perimeter)\n"
      ]
    },
    {
      "cell_type": "markdown",
      "id": "a76f2d4f",
      "metadata": {
        "id": "a76f2d4f"
      },
      "source": [
        "Store the price of an item in one variable and the quantity in another. Calculate and print the total cost.\n"
      ]
    },
    {
      "cell_type": "code",
      "execution_count": 13,
      "id": "8cc9115b",
      "metadata": {
        "colab": {
          "base_uri": "https://localhost:8080/"
        },
        "id": "8cc9115b",
        "outputId": "d3c6e0ed-f640-4862-c2ba-5dffb81ca131"
      },
      "outputs": [
        {
          "output_type": "stream",
          "name": "stdout",
          "text": [
            "Enter price of item:  2\n",
            "Enter quantity of item:   2\n",
            "Cost of 2 items is:    4\n"
          ]
        }
      ],
      "source": [
        "Price = int(input(\"Enter price of item:  \"))\n",
        "Quantity = int(input(\"Enter quantity of item:   \"))\n",
        "Cost = Price * Quantity\n",
        "print(f\"Cost of {Quantity} items is:   \", Cost)"
      ]
    },
    {
      "cell_type": "markdown",
      "id": "7d9d0793",
      "metadata": {
        "id": "7d9d0793"
      },
      "source": [
        "Declare a constant variable for the value of pi (π) and use it to calculate the circumference of a circle with a given radius."
      ]
    },
    {
      "cell_type": "code",
      "execution_count": 14,
      "id": "254f3e92",
      "metadata": {
        "colab": {
          "base_uri": "https://localhost:8080/"
        },
        "id": "254f3e92",
        "outputId": "48410b4c-c46b-495d-82c3-0dfd09596e2e"
      },
      "outputs": [
        {
          "output_type": "stream",
          "name": "stdout",
          "text": [
            "Enter radius to compute circumference:    2\n",
            "Circumference of circle is:     12.56\n"
          ]
        }
      ],
      "source": [
        "PI = 3.14\n",
        "Radius = int(input(\"Enter radius to compute circumference:    \"))\n",
        "Circumference = 2 * PI * Radius\n",
        "print(\"Circumference of circle is:    \", Circumference)"
      ]
    },
    {
      "cell_type": "markdown",
      "id": "2415eca0",
      "metadata": {
        "id": "2415eca0"
      },
      "source": [
        "Calculate the sum of two numbers, a and b."
      ]
    },
    {
      "cell_type": "code",
      "execution_count": 15,
      "id": "8eeee19d",
      "metadata": {
        "colab": {
          "base_uri": "https://localhost:8080/"
        },
        "id": "8eeee19d",
        "outputId": "5fd22654-9e91-4c03-8ec7-7eecf877d789"
      },
      "outputs": [
        {
          "output_type": "stream",
          "name": "stdout",
          "text": [
            "Enter first number:  2\n",
            "Enter second number:  2\n",
            "Sum of 2 and 2 is:   4\n"
          ]
        }
      ],
      "source": [
        "a = int(input(\"Enter first number:  \"))\n",
        "b = int(input(\"Enter second number:  \"))\n",
        "sum = a + b\n",
        "print(f\"Sum of {a} and {b} is:  \", sum)"
      ]
    },
    {
      "cell_type": "markdown",
      "id": "2f3f9653",
      "metadata": {
        "id": "2f3f9653"
      },
      "source": [
        "Calculate the product of two numbers, a and b.\n"
      ]
    },
    {
      "cell_type": "code",
      "execution_count": 17,
      "id": "baac0709",
      "metadata": {
        "colab": {
          "base_uri": "https://localhost:8080/"
        },
        "id": "baac0709",
        "outputId": "778032a9-a698-4f60-b8e5-96f6ec4cbb5d"
      },
      "outputs": [
        {
          "output_type": "stream",
          "name": "stdout",
          "text": [
            "Enter first number:  2\n",
            "Enter second number:  3\n",
            "Product of 2 and 3 is:   6\n"
          ]
        }
      ],
      "source": [
        "a = int(input(\"Enter first number:  \"))\n",
        "b = int(input(\"Enter second number:  \"))\n",
        "Product = a * b\n",
        "print(f\"Product of {a} and {b} is:  \", Product)"
      ]
    },
    {
      "cell_type": "markdown",
      "id": "263bb83b",
      "metadata": {
        "id": "263bb83b"
      },
      "source": [
        "Calculate the result of dividing a by b (with proper error handling for division by zero).\n"
      ]
    },
    {
      "cell_type": "code",
      "execution_count": 20,
      "id": "783ef794",
      "metadata": {
        "colab": {
          "base_uri": "https://localhost:8080/"
        },
        "id": "783ef794",
        "outputId": "298654ab-a488-4765-d066-e42fea9fe75a"
      },
      "outputs": [
        {
          "output_type": "stream",
          "name": "stdout",
          "text": [
            "Enter first number:  4\n",
            "Enter second number:  0\n",
            "OOPSS..! Division by zero is not allowed.\n"
          ]
        }
      ],
      "source": [
        "a = int(input(\"Enter first number:  \"))\n",
        "b = int(input(\"Enter second number:  \"))\n",
        "try:\n",
        "  div = a / b\n",
        "except ZeroDivisionError:\n",
        "  print(\"OOPSS..! Division by zero is not allowed.\")\n",
        "else:\n",
        "  print(f\"Division of {a} and {b} is:  \", div)"
      ]
    },
    {
      "cell_type": "markdown",
      "id": "1160a016",
      "metadata": {
        "id": "1160a016"
      },
      "source": [
        "Calculate the square of a number x."
      ]
    },
    {
      "cell_type": "code",
      "execution_count": 21,
      "id": "ba1443de",
      "metadata": {
        "colab": {
          "base_uri": "https://localhost:8080/"
        },
        "id": "ba1443de",
        "outputId": "60478864-a912-432b-b4c0-4fe53f810a32"
      },
      "outputs": [
        {
          "output_type": "stream",
          "name": "stdout",
          "text": [
            "Enter number to compute square:  2\n",
            "Square of 2 is:    4\n"
          ]
        }
      ],
      "source": [
        "x = int(input(\"Enter number to compute square:  \"))\n",
        "Square = x ** 2\n",
        "print(f\"Square of {x} is:   \", Square)"
      ]
    },
    {
      "cell_type": "markdown",
      "id": "927cffd3",
      "metadata": {
        "id": "927cffd3"
      },
      "source": [
        "Calculate the remainder when a is divided by b."
      ]
    },
    {
      "cell_type": "code",
      "execution_count": 22,
      "id": "f95b1e5c",
      "metadata": {
        "colab": {
          "base_uri": "https://localhost:8080/"
        },
        "id": "f95b1e5c",
        "outputId": "373223c7-bc05-4192-a417-fdf0fbc06568"
      },
      "outputs": [
        {
          "output_type": "stream",
          "name": "stdout",
          "text": [
            "Enter first number:  7\n",
            "Enter second number:   3\n",
            "Remainder of the numbers is:    1\n"
          ]
        }
      ],
      "source": [
        "a = int(input(\"Enter first number:  \"))\n",
        "b = int(input(\"Enter second number:   \"))\n",
        "Remainder = a % b\n",
        "print(\"Remainder of the numbers is:   \", Remainder)"
      ]
    },
    {
      "cell_type": "markdown",
      "id": "fad0381a",
      "metadata": {
        "id": "fad0381a"
      },
      "source": [
        " Calculate the result of dividing 17 by 3 and print the quotient and remainder."
      ]
    },
    {
      "cell_type": "code",
      "execution_count": 26,
      "id": "6bbe2ffb",
      "metadata": {
        "colab": {
          "base_uri": "https://localhost:8080/"
        },
        "id": "6bbe2ffb",
        "outputId": "890cd375-b184-4e5e-f274-922be5d9ac09"
      },
      "outputs": [
        {
          "output_type": "stream",
          "name": "stdout",
          "text": [
            "Quotient and remainder for 17 and 3 is:   \n",
            "Quotient:   5\n",
            "Remainder:   2\n"
          ]
        }
      ],
      "source": [
        "Dividend = 17\n",
        "Divisor = 3\n",
        "print(f\"Quotient and remainder for {Dividend} and {Divisor} is:   \")\n",
        "Quotient = 0\n",
        "while Dividend >= Divisor:\n",
        "  Dividend =  Dividend - Divisor\n",
        "  Quotient = Quotient + 1\n",
        "\n",
        "print(\"Quotient:  \", Quotient)\n",
        "print(\"Remainder:  \", Dividend)"
      ]
    },
    {
      "cell_type": "markdown",
      "id": "0abdb0ba",
      "metadata": {
        "id": "0abdb0ba"
      },
      "source": [
        "Calculate the area of a square with a given side length.\n"
      ]
    },
    {
      "cell_type": "code",
      "execution_count": 27,
      "id": "4a0edefb",
      "metadata": {
        "colab": {
          "base_uri": "https://localhost:8080/"
        },
        "id": "4a0edefb",
        "outputId": "0425da48-78a5-483c-9a59-5981f77f3202"
      },
      "outputs": [
        {
          "output_type": "stream",
          "name": "stdout",
          "text": [
            "Enter side of square:   4\n",
            "Area of Square is:    16\n"
          ]
        }
      ],
      "source": [
        "Side = int(input(\"Enter side of square:   \"))\n",
        "Area = Side * Side\n",
        "print(\"Area of Square is:   \", Area)"
      ]
    },
    {
      "cell_type": "markdown",
      "id": "0c15704a",
      "metadata": {
        "id": "0c15704a"
      },
      "source": [
        "Calculate the average of five numbers.\n"
      ]
    },
    {
      "cell_type": "code",
      "execution_count": 28,
      "id": "ae66922d",
      "metadata": {
        "colab": {
          "base_uri": "https://localhost:8080/"
        },
        "id": "ae66922d",
        "outputId": "41eea76e-3747-46cf-85af-d034183b20c4"
      },
      "outputs": [
        {
          "output_type": "stream",
          "name": "stdout",
          "text": [
            "Average of above five numbers:    3.0\n"
          ]
        }
      ],
      "source": [
        "a = 5\n",
        "b = 4\n",
        "c = 3\n",
        "d = 2\n",
        "e =1\n",
        "Average = (a + b + c + d + e) / 5\n",
        "print(\"Average of above five numbers:   \", Average)"
      ]
    },
    {
      "cell_type": "markdown",
      "id": "da3cde84",
      "metadata": {
        "id": "da3cde84"
      },
      "source": [
        "Create a variable with a boolean value and print its opposite value.\n"
      ]
    },
    {
      "cell_type": "code",
      "execution_count": 29,
      "id": "0bb430b5",
      "metadata": {
        "colab": {
          "base_uri": "https://localhost:8080/"
        },
        "id": "0bb430b5",
        "outputId": "466f105a-911f-4d67-ccc5-4877ca55a244"
      },
      "outputs": [
        {
          "output_type": "stream",
          "name": "stdout",
          "text": [
            "Opposite of True is:    False\n"
          ]
        }
      ],
      "source": [
        "Bool = True\n",
        "Opposite = not Bool\n",
        "print(f\"Opposite of {Bool} is:   \", Opposite)"
      ]
    },
    {
      "cell_type": "markdown",
      "id": "d800b510",
      "metadata": {
        "id": "d800b510"
      },
      "source": [
        "Store your birth year in a variable and calculate your age."
      ]
    },
    {
      "cell_type": "code",
      "execution_count": 30,
      "id": "94ac0a22",
      "metadata": {
        "colab": {
          "base_uri": "https://localhost:8080/"
        },
        "id": "94ac0a22",
        "outputId": "fcf74298-b6c3-402a-cd47-bcba5ab0e5db"
      },
      "outputs": [
        {
          "output_type": "stream",
          "name": "stdout",
          "text": [
            "Gap between 2001 and 2023 is 22 so Age will be:    22\n"
          ]
        }
      ],
      "source": [
        "Birth_Year = 2001\n",
        "# Import built in method of data and time to calculate\n",
        "import datetime\n",
        "Current_Year = datetime.date.today().year\n",
        "Age = Current_Year - Birth_Year\n",
        "print(f\"Gap between {Birth_Year} and {Current_Year} is {Age} so Age will be:   \", Age)"
      ]
    },
    {
      "cell_type": "markdown",
      "id": "193bd0c7",
      "metadata": {
        "id": "193bd0c7"
      },
      "source": [
        "Create a variable with an integer and convert it to a float."
      ]
    },
    {
      "cell_type": "code",
      "execution_count": 31,
      "id": "c862dfa4",
      "metadata": {
        "colab": {
          "base_uri": "https://localhost:8080/"
        },
        "id": "c862dfa4",
        "outputId": "d5b59599-8ad8-4592-a82a-79ebf17e8e23"
      },
      "outputs": [
        {
          "output_type": "stream",
          "name": "stdout",
          "text": [
            "Enter value in integer:  3\n",
            "Float value of 3 is:   3.0\n"
          ]
        }
      ],
      "source": [
        "integer = int(input(\"Enter value in integer:  \"))\n",
        "Float = float(integer)\n",
        "print(f\"Float value of {integer} is:  \", Float)"
      ]
    },
    {
      "cell_type": "markdown",
      "id": "d6e985ae",
      "metadata": {
        "id": "d6e985ae"
      },
      "source": [
        "Create a variable with a float and convert it to an integer."
      ]
    },
    {
      "cell_type": "code",
      "execution_count": 33,
      "id": "db782f94",
      "metadata": {
        "colab": {
          "base_uri": "https://localhost:8080/"
        },
        "id": "db782f94",
        "outputId": "3d2195c0-6949-4575-837d-7ab089255945"
      },
      "outputs": [
        {
          "output_type": "stream",
          "name": "stdout",
          "text": [
            "Enter value in Float:  4.0\n",
            "Integer value of 4.0 is:   4\n"
          ]
        }
      ],
      "source": [
        "Float = float(input(\"Enter value in Float:  \"))\n",
        "integer = int(Float)\n",
        "print(f\"Integer value of {Float} is:  \", integer)"
      ]
    },
    {
      "cell_type": "markdown",
      "id": "03fbd24c",
      "metadata": {
        "id": "03fbd24c"
      },
      "source": [
        "Create a variable with a string that represents an integer and convert it to an integer."
      ]
    },
    {
      "cell_type": "code",
      "execution_count": 34,
      "id": "15e98a9c",
      "metadata": {
        "colab": {
          "base_uri": "https://localhost:8080/"
        },
        "id": "15e98a9c",
        "outputId": "c56649d6-d5ef-4c7e-9015-9b62fff9f2bc"
      },
      "outputs": [
        {
          "output_type": "stream",
          "name": "stdout",
          "text": [
            "Enter integer which is by default string:  4\n",
            "Integer is:   4\n"
          ]
        }
      ],
      "source": [
        "Integer_as_string = input(\"Enter integer which is by default string:  \")\n",
        "integer = int(Integer_as_string)\n",
        "print(\"Integer is:  \", integer)"
      ]
    },
    {
      "cell_type": "markdown",
      "id": "7b82ee26",
      "metadata": {
        "id": "7b82ee26"
      },
      "source": [
        "Create a variable with a string that represents a float and convert it to a float.\n"
      ]
    },
    {
      "cell_type": "code",
      "execution_count": 35,
      "id": "31b96ee5",
      "metadata": {
        "colab": {
          "base_uri": "https://localhost:8080/"
        },
        "id": "31b96ee5",
        "outputId": "72672dd7-1e40-49df-c67f-a666291289ec"
      },
      "outputs": [
        {
          "output_type": "stream",
          "name": "stdout",
          "text": [
            "Float value is:    3.144\n"
          ]
        }
      ],
      "source": [
        "Float = 3.144\n",
        "Conversion = float(Float)\n",
        "print(\"Float value is:   \", Conversion)"
      ]
    },
    {
      "cell_type": "markdown",
      "id": "55b70302",
      "metadata": {
        "id": "55b70302"
      },
      "source": [
        "Create a variable with a number and convert it to a string."
      ]
    },
    {
      "cell_type": "code",
      "execution_count": 36,
      "id": "191ca6c0",
      "metadata": {
        "colab": {
          "base_uri": "https://localhost:8080/"
        },
        "id": "191ca6c0",
        "outputId": "5f239615-c6d8-4229-91ae-7b3f8be69edd"
      },
      "outputs": [
        {
          "output_type": "stream",
          "name": "stdout",
          "text": [
            "Enter a number to be converted:    34\n",
            "String of 34 is:   34\n"
          ]
        }
      ],
      "source": [
        "Number = int(input(\"Enter a number to be converted:    \"))\n",
        "String = str(Number)\n",
        "print(f\"String of {Number} is:  \", String)"
      ]
    },
    {
      "cell_type": "markdown",
      "id": "12030234",
      "metadata": {
        "id": "12030234"
      },
      "source": [
        "Calculate the absolute value of a number.\n",
        "\n"
      ]
    },
    {
      "cell_type": "code",
      "execution_count": 37,
      "id": "e6e2dbb2",
      "metadata": {
        "colab": {
          "base_uri": "https://localhost:8080/"
        },
        "id": "e6e2dbb2",
        "outputId": "0d51b0e7-7e28-48c5-fa56-65696b483551"
      },
      "outputs": [
        {
          "output_type": "stream",
          "name": "stdout",
          "text": [
            "enter a number:  -5\n",
            "Absolute value of -5 is:    5\n"
          ]
        }
      ],
      "source": [
        "Number = int(input(\"enter a number:  \"))\n",
        "Absolute = abs(Number)\n",
        "print(f\"Absolute value of {Number} is:   \", Absolute)"
      ]
    },
    {
      "cell_type": "markdown",
      "id": "0bcb4315",
      "metadata": {
        "id": "0bcb4315"
      },
      "source": [
        "Calculate the square root of a number.\n"
      ]
    },
    {
      "cell_type": "code",
      "execution_count": 38,
      "id": "1ffc86be",
      "metadata": {
        "colab": {
          "base_uri": "https://localhost:8080/"
        },
        "id": "1ffc86be",
        "outputId": "8351483a-186d-40f0-f3da-b548d4e4a7e3"
      },
      "outputs": [
        {
          "output_type": "stream",
          "name": "stdout",
          "text": [
            "enter a number to compute square root:  4\n",
            "Square root of 4 is :    2.0\n"
          ]
        }
      ],
      "source": [
        "import math\n",
        "Number = int(input(\"enter a number to compute square root:  \"))\n",
        "Square_Root = math.sqrt(Number)\n",
        "print(f\"Square root of {Number} is :   \", Square_Root)"
      ]
    },
    {
      "cell_type": "markdown",
      "id": "3b8743eb",
      "metadata": {
        "id": "3b8743eb"
      },
      "source": [
        "Calculate the value of a raised to the power of b.\n"
      ]
    },
    {
      "cell_type": "code",
      "execution_count": 39,
      "id": "d278563f",
      "metadata": {
        "colab": {
          "base_uri": "https://localhost:8080/"
        },
        "id": "d278563f",
        "outputId": "c126122c-9f3d-4bd4-f710-953fc0277cff"
      },
      "outputs": [
        {
          "output_type": "stream",
          "name": "stdout",
          "text": [
            "Enter the value of a:  2\n",
            "Enter the value of b:  3\n",
            "2 raised to power 3 is:    8\n"
          ]
        }
      ],
      "source": [
        "a = int(input(\"Enter the value of a:  \"))\n",
        "b = int(input(\"Enter the value of b:  \"))\n",
        "Power = a ** b\n",
        "print(f\"{a} raised to power {b} is:   \", Power)"
      ]
    },
    {
      "cell_type": "markdown",
      "id": "d06e7a77",
      "metadata": {
        "id": "d06e7a77"
      },
      "source": [
        "Round a float to the nearest integer."
      ]
    },
    {
      "cell_type": "code",
      "execution_count": 40,
      "id": "2f5873c3",
      "metadata": {
        "colab": {
          "base_uri": "https://localhost:8080/"
        },
        "id": "2f5873c3",
        "outputId": "9aa213a5-5b6e-4be8-e103-55054ac178a0"
      },
      "outputs": [
        {
          "output_type": "stream",
          "name": "stdout",
          "text": [
            "Enter value:  3.7\n",
            "Rounded value of 3.7 is:   4\n"
          ]
        }
      ],
      "source": [
        "Float = float(input(\"Enter value:  \"))\n",
        "Round = round(Float)\n",
        "print(f\"Rounded value of {Float} is:  \", Round)"
      ]
    },
    {
      "cell_type": "markdown",
      "id": "34f33237",
      "metadata": {
        "id": "34f33237"
      },
      "source": [
        "Combine multiple conditions using logical operators and print the result."
      ]
    },
    {
      "cell_type": "code",
      "execution_count": 41,
      "id": "687d14b0",
      "metadata": {
        "colab": {
          "base_uri": "https://localhost:8080/"
        },
        "id": "687d14b0",
        "outputId": "ebf52160-d6e5-4eea-ffc2-bf46fdf8e486"
      },
      "outputs": [
        {
          "output_type": "stream",
          "name": "stdout",
          "text": [
            "Result of AND operation: False\n",
            "Result of OR operation: False\n",
            "Result of NOT operation: True\n"
          ]
        }
      ],
      "source": [
        "x = 20\n",
        "y = 30\n",
        "\n",
        "condition_1 = x > y\n",
        "condition_2 = y <= x\n",
        "condition_3 = x == 5\n",
        "\n",
        "result_and = condition_1 and condition_2\n",
        "result_or = condition_1 or condition_3\n",
        "result_not = not condition_1\n",
        "\n",
        "print(\"Result of AND operation:\", result_and)\n",
        "print(\"Result of OR operation:\", result_or)\n",
        "print(\"Result of NOT operation:\", result_not)\n"
      ]
    },
    {
      "cell_type": "markdown",
      "id": "ab20128b",
      "metadata": {
        "id": "ab20128b"
      },
      "source": [
        "Generate a random number between 1 and 100.**(challenging)**\n"
      ]
    },
    {
      "cell_type": "code",
      "execution_count": 44,
      "id": "43ac553b",
      "metadata": {
        "colab": {
          "base_uri": "https://localhost:8080/"
        },
        "id": "43ac553b",
        "outputId": "43a085a1-86b7-4c33-ba80-0b0f9a4e7a7d"
      },
      "outputs": [
        {
          "output_type": "stream",
          "name": "stdout",
          "text": [
            "Random number: 26\n"
          ]
        }
      ],
      "source": [
        "import random\n",
        "# Using 101 because randrange function does not include upper limit in the range of possible values\n",
        "random_number = random.randrange(1, 101)\n",
        "print(\"Random number:\", random_number)"
      ]
    },
    {
      "cell_type": "code",
      "execution_count": null,
      "id": "08b1a18f",
      "metadata": {
        "id": "08b1a18f"
      },
      "outputs": [],
      "source": []
    },
    {
      "cell_type": "code",
      "execution_count": null,
      "id": "614ec84c",
      "metadata": {
        "id": "614ec84c"
      },
      "outputs": [],
      "source": []
    }
  ],
  "metadata": {
    "kernelspec": {
      "display_name": "Python 3 (ipykernel)",
      "language": "python",
      "name": "python3"
    },
    "language_info": {
      "codemirror_mode": {
        "name": "ipython",
        "version": 3
      },
      "file_extension": ".py",
      "mimetype": "text/x-python",
      "name": "python",
      "nbconvert_exporter": "python",
      "pygments_lexer": "ipython3",
      "version": "3.10.12"
    },
    "colab": {
      "provenance": []
    }
  },
  "nbformat": 4,
  "nbformat_minor": 5
}