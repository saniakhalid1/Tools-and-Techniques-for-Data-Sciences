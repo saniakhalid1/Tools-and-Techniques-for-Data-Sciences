{
 "cells": [
  {
   "cell_type": "markdown",
   "id": "1488806a",
   "metadata": {},
   "source": [
    "### Assignment-05 (Tuple)\n",
    "- Change the notebook name with your name and Roll Number.\n",
    "- Try this as your own, no chatgpt (it's for your learning)\n",
    "- after completing the assignment, submit this book on google class room."
   ]
  },
  {
   "cell_type": "markdown",
   "id": "0f49daa5",
   "metadata": {},
   "source": [
    "    Create an empty tuple and print it.\n",
    "        "
   ]
  },
  {
   "cell_type": "code",
   "execution_count": 1,
   "id": "9f34fb22",
   "metadata": {},
   "outputs": [
    {
     "name": "stdout",
     "output_type": "stream",
     "text": [
      "()\n"
     ]
    }
   ],
   "source": [
    "empty_tuple = ()\n",
    "print(empty_tuple)\n"
   ]
  },
  {
   "cell_type": "markdown",
   "id": "e043fa87",
   "metadata": {},
   "source": [
    "    Create a tuple of your favorite fruits and print it.\n"
   ]
  },
  {
   "cell_type": "code",
   "execution_count": 2,
   "id": "a8075e3e",
   "metadata": {},
   "outputs": [
    {
     "name": "stdout",
     "output_type": "stream",
     "text": [
      "('apple', 'banana', 'orange', 'strawberry')\n"
     ]
    }
   ],
   "source": [
    "favorite_fruits = ('apple', 'banana', 'orange', 'strawberry')\n",
    "print(favorite_fruits)\n"
   ]
  },
  {
   "cell_type": "markdown",
   "id": "63103aae",
   "metadata": {},
   "source": [
    "    Create a tuple that includes a mix of data types (integers, strings, floats).\n",
    "  "
   ]
  },
  {
   "cell_type": "code",
   "execution_count": 3,
   "id": "02d21498",
   "metadata": {},
   "outputs": [
    {
     "name": "stdout",
     "output_type": "stream",
     "text": [
      "(1, 'apple', 3.14, 'orange', 5)\n"
     ]
    }
   ],
   "source": [
    "mixed_tuple = (1, 'apple', 3.14, 'orange', 5)\n",
    "print(mixed_tuple)\n"
   ]
  },
  {
   "cell_type": "markdown",
   "id": "704e22bb",
   "metadata": {},
   "source": [
    "  Access the first element of a tuple.\n"
   ]
  },
  {
   "cell_type": "code",
   "execution_count": 4,
   "id": "bf90e463",
   "metadata": {},
   "outputs": [
    {
     "name": "stdout",
     "output_type": "stream",
     "text": [
      "First Element: 10\n"
     ]
    }
   ],
   "source": [
    "my_tuple = (10, 'apple', 3.14, 'orange', 5)\n",
    "first_element = my_tuple[0]\n",
    "print(\"First Element:\", first_element)\n"
   ]
  },
  {
   "cell_type": "markdown",
   "id": "26563419",
   "metadata": {},
   "source": [
    "    Access the last element of a tuple."
   ]
  },
  {
   "cell_type": "code",
   "execution_count": 5,
   "id": "54b98b3a",
   "metadata": {},
   "outputs": [
    {
     "name": "stdout",
     "output_type": "stream",
     "text": [
      "Last Element: 5\n"
     ]
    }
   ],
   "source": [
    "my_tuple = (10, 'apple', 3.14, 'orange', 5)\n",
    "last_element = my_tuple[-1]\n",
    "print(\"Last Element:\", last_element)\n"
   ]
  },
  {
   "cell_type": "markdown",
   "id": "15d49e96",
   "metadata": {},
   "source": [
    "Access the second and third elements of a tuple.\n"
   ]
  },
  {
   "cell_type": "code",
   "execution_count": 6,
   "id": "1b8f2886",
   "metadata": {},
   "outputs": [
    {
     "name": "stdout",
     "output_type": "stream",
     "text": [
      "Second Element: apple\n",
      "Third Element: 3.14\n"
     ]
    }
   ],
   "source": [
    "my_tuple = (10, 'apple', 3.14, 'orange', 5)\n",
    "second_element = my_tuple[1]\n",
    "third_element = my_tuple[2]\n",
    "print(\"Second Element:\", second_element)\n",
    "print(\"Third Element:\", third_element)\n"
   ]
  },
  {
   "cell_type": "markdown",
   "id": "069741b2",
   "metadata": {},
   "source": [
    "\n",
    "    Slice a tuple to extract the first three elements.\n",
    "    "
   ]
  },
  {
   "cell_type": "code",
   "execution_count": 7,
   "id": "ba3f17f2",
   "metadata": {},
   "outputs": [
    {
     "name": "stdout",
     "output_type": "stream",
     "text": [
      "First Three Elements: (10, 'apple', 3.14)\n"
     ]
    }
   ],
   "source": [
    "my_tuple = (10, 'apple', 3.14, 'orange', 5)\n",
    "first_three_elements = my_tuple[:3]\n",
    "print(\"First Three Elements:\", first_three_elements)\n"
   ]
  },
  {
   "cell_type": "markdown",
   "id": "f5f8af36",
   "metadata": {},
   "source": [
    "Slice a tuple to extract the last three elements.\n",
    " "
   ]
  },
  {
   "cell_type": "code",
   "execution_count": 9,
   "id": "72b61419",
   "metadata": {},
   "outputs": [
    {
     "name": "stdout",
     "output_type": "stream",
     "text": [
      "Last Three Elements: (3.14, 'orange', 5)\n"
     ]
    }
   ],
   "source": [
    "my_tuple = (10, 'apple', 3.14, 'orange', 5)\n",
    "last_three_elements = my_tuple[-3:]\n",
    "print(\"Last Three Elements:\", last_three_elements)\n"
   ]
  },
  {
   "cell_type": "markdown",
   "id": "fbf3a8e6",
   "metadata": {},
   "source": [
    "   Slice a tuple to get every second element.\n"
   ]
  },
  {
   "cell_type": "code",
   "execution_count": 10,
   "id": "2f28222b",
   "metadata": {},
   "outputs": [
    {
     "name": "stdout",
     "output_type": "stream",
     "text": [
      "Every Second Element: (10, 3.14, 5)\n"
     ]
    }
   ],
   "source": [
    "my_tuple = (10, 'apple', 3.14, 'orange', 5)\n",
    "every_second_element = my_tuple[::2]\n",
    "print(\"Every Second Element:\", every_second_element)\n"
   ]
  },
  {
   "cell_type": "markdown",
   "id": "972a3d7e",
   "metadata": {},
   "source": [
    "    Reverse a tuple using slicing."
   ]
  },
  {
   "cell_type": "code",
   "execution_count": 12,
   "id": "a0c026b2",
   "metadata": {},
   "outputs": [
    {
     "name": "stdout",
     "output_type": "stream",
     "text": [
      "Reversed Tuple: (5, 4, 3, 2, 1)\n"
     ]
    }
   ],
   "source": [
    "my_tuple = (1, 2, 3, 4, 5)\n",
    "reversed_tuple = my_tuple[::-1]\n",
    "print(\"Reversed Tuple:\", reversed_tuple)"
   ]
  },
  {
   "cell_type": "markdown",
   "id": "ff819f8c",
   "metadata": {},
   "source": [
    "Create two tuples and concatenate them.\n",
    "\n"
   ]
  },
  {
   "cell_type": "code",
   "execution_count": 13,
   "id": "34bb1253",
   "metadata": {},
   "outputs": [
    {
     "name": "stdout",
     "output_type": "stream",
     "text": [
      "Concatenated Tuple: (1, 2, 3, 'apple', 'banana', 'orange')\n"
     ]
    }
   ],
   "source": [
    "# Two tuples\n",
    "tuple1 = (1, 2, 3)\n",
    "tuple2 = ('apple', 'banana', 'orange')\n",
    "concatenated_tuple = tuple1 + tuple2\n",
    "print(\"Concatenated Tuple:\", concatenated_tuple)\n"
   ]
  },
  {
   "cell_type": "markdown",
   "id": "6f81c447",
   "metadata": {},
   "source": [
    "    Repeat a tuple multiple times using the repetition operator."
   ]
  },
  {
   "cell_type": "code",
   "execution_count": 14,
   "id": "a7993e54",
   "metadata": {},
   "outputs": [
    {
     "name": "stdout",
     "output_type": "stream",
     "text": [
      "Repeated Tuple: (1, 2, 3, 1, 2, 3, 1, 2, 3)\n"
     ]
    }
   ],
   "source": [
    "my_tuple = (1, 2, 3)\n",
    "repeated_tuple = my_tuple * 3\n",
    "print(\"Repeated Tuple:\", repeated_tuple)\n"
   ]
  },
  {
   "cell_type": "markdown",
   "id": "e39bdb1d",
   "metadata": {},
   "source": [
    "Find the index of a specific element in a tuple using the index() method."
   ]
  },
  {
   "cell_type": "code",
   "execution_count": 15,
   "id": "d0887521",
   "metadata": {},
   "outputs": [
    {
     "name": "stdout",
     "output_type": "stream",
     "text": [
      "Index of 'orange': 3\n"
     ]
    }
   ],
   "source": [
    "my_tuple = (10, 'apple', 3.14, 'orange', 5)\n",
    "index_of_orange = my_tuple.index('orange')\n",
    "print(\"Index of 'orange':\", index_of_orange)\n"
   ]
  },
  {
   "cell_type": "markdown",
   "id": "fc66ca7e",
   "metadata": {},
   "source": [
    "    Count the number of occurrences of a specific element in a tuple using the count() method."
   ]
  },
  {
   "cell_type": "code",
   "execution_count": 17,
   "id": "d9bf2831",
   "metadata": {},
   "outputs": [
    {
     "name": "stdout",
     "output_type": "stream",
     "text": [
      "Count of 'orange': 3\n"
     ]
    }
   ],
   "source": [
    "my_tuple = (10, 'apple', 3.14, 'orange', 5, 'orange', 'apple', 'orange')\n",
    "count_of_orange = my_tuple.count('orange')\n",
    "print(\"Count of 'orange':\", count_of_orange)\n"
   ]
  },
  {
   "cell_type": "markdown",
   "id": "9bdef970",
   "metadata": {},
   "source": [
    "Sort a tuple of numbers in ascending order.\n",
    "\n"
   ]
  },
  {
   "cell_type": "code",
   "execution_count": 18,
   "id": "326fca51",
   "metadata": {},
   "outputs": [
    {
     "name": "stdout",
     "output_type": "stream",
     "text": [
      "Sorted Tuple: (1, 1, 2, 3, 3, 4, 5, 5, 5, 6, 9)\n"
     ]
    }
   ],
   "source": [
    "my_tuple = (3, 1, 4, 1, 5, 9, 2, 6, 5, 3, 5)\n",
    "sorted_tuple = tuple(sorted(my_tuple))\n",
    "print(\"Sorted Tuple:\", sorted_tuple)\n"
   ]
  },
  {
   "cell_type": "markdown",
   "id": "2b1d9be5",
   "metadata": {},
   "source": [
    "    Sort a tuple of strings in alphabetical order."
   ]
  },
  {
   "cell_type": "code",
   "execution_count": 19,
   "id": "5b0a511f",
   "metadata": {},
   "outputs": [
    {
     "name": "stdout",
     "output_type": "stream",
     "text": [
      "Sorted Tuple: ('apple', 'banana', 'grape', 'kiwi', 'orange')\n"
     ]
    }
   ],
   "source": [
    "my_tuple = ('banana', 'apple', 'orange', 'grape', 'kiwi')\n",
    "sorted_tuple = tuple(sorted(my_tuple))\n",
    "print(\"Sorted Tuple:\", sorted_tuple)\n"
   ]
  },
  {
   "cell_type": "markdown",
   "id": "0393ae63",
   "metadata": {},
   "source": [
    "Sort a tuple of tuples based on the second element of each inner tuple."
   ]
  },
  {
   "cell_type": "code",
   "execution_count": 20,
   "id": "5b0d33fd",
   "metadata": {},
   "outputs": [
    {
     "name": "stdout",
     "output_type": "stream",
     "text": [
      "Sorted Tuple: ((5, 1), (3, 2), (2, 3), (1, 4), (4, 5))\n"
     ]
    }
   ],
   "source": [
    "my_tuple = ((1, 4), (3, 2), (5, 1), (2, 3), (4, 5))\n",
    "\n",
    "sorted_tuple = tuple(sorted(my_tuple, key=lambda x: x[1]))\n",
    "print(\"Sorted Tuple:\", sorted_tuple)\n"
   ]
  },
  {
   "cell_type": "markdown",
   "id": "65b8f449",
   "metadata": {},
   "source": [
    "Compare two tuples to see if they are equal in both value and identity."
   ]
  },
  {
   "cell_type": "code",
   "execution_count": 21,
   "id": "e09a6135",
   "metadata": {},
   "outputs": [
    {
     "name": "stdout",
     "output_type": "stream",
     "text": [
      "Are the tuples equal? True\n"
     ]
    }
   ],
   "source": [
    "# Two tuples\n",
    "tuple1 = (1, 2, 3)\n",
    "tuple2 = (1, 2, 3)\n",
    "are_equal = tuple1 == tuple2\n",
    "\n",
    "# Print the result\n",
    "print(\"Are the tuples equal?\", are_equal)\n"
   ]
  },
  {
   "cell_type": "markdown",
   "id": "0810cc18",
   "metadata": {},
   "source": [
    "Create a shallow copy of a tuple and observe the effects of modifying one of the tuples.\n",
    "\n"
   ]
  },
  {
   "cell_type": "code",
   "execution_count": 22,
   "id": "426bacd6",
   "metadata": {},
   "outputs": [
    {
     "name": "stdout",
     "output_type": "stream",
     "text": [
      "Original Tuple: (1, [2, 3, 99], 4)\n",
      "Copied Tuple: (1, [2, 3, 99], 4)\n"
     ]
    }
   ],
   "source": [
    "original_tuple = (1, [2, 3], 4)\n",
    "\n",
    "# Create a shallow copy of the tuple\n",
    "copied_tuple = tuple(original_tuple)\n",
    "copied_tuple[1].append(99)\n",
    "print(\"Original Tuple:\", original_tuple)\n",
    "print(\"Copied Tuple:\", copied_tuple)\n"
   ]
  },
  {
   "cell_type": "markdown",
   "id": "f14455c5",
   "metadata": {},
   "source": [
    "    Create a deep copy of a nested tuple and observe the effects of modifying one of the tuples.\n"
   ]
  },
  {
   "cell_type": "code",
   "execution_count": 23,
   "id": "4564c764",
   "metadata": {},
   "outputs": [
    {
     "name": "stdout",
     "output_type": "stream",
     "text": [
      "Original Tuple: (1, [2, 3], 4)\n",
      "Deep Copied Tuple: (1, [2, 3, 99], 4)\n"
     ]
    }
   ],
   "source": [
    "import copy\n",
    "original_tuple = (1, [2, 3], 4)\n",
    "deep_copied_tuple = copy.deepcopy(original_tuple)\n",
    "deep_copied_tuple[1].append(99)\n",
    "\n",
    "print(\"Original Tuple:\", original_tuple)\n",
    "print(\"Deep Copied Tuple:\", deep_copied_tuple)\n"
   ]
  },
  {
   "cell_type": "markdown",
   "id": "b01879a0",
   "metadata": {},
   "source": [
    "    Pickle a tuple and save it to a file.\n"
   ]
  },
  {
   "cell_type": "code",
   "execution_count": 24,
   "id": "55ddfbd4",
   "metadata": {},
   "outputs": [
    {
     "name": "stdout",
     "output_type": "stream",
     "text": [
      "Tuple pickled and saved to pickled_tuple.pkl\n"
     ]
    }
   ],
   "source": [
    "import pickle\n",
    "my_tuple = (1, 'apple', 3.14, 'orange', 5)\n",
    "file_path = 'pickled_tuple.pkl'\n",
    "with open(file_path, 'wb') as file:\n",
    "    pickle.dump(my_tuple, file)\n",
    "\n",
    "print(f\"Tuple pickled and saved to {file_path}\")\n"
   ]
  },
  {
   "cell_type": "markdown",
   "id": "6874f46a",
   "metadata": {},
   "source": [
    "    Unpickle a tuple from a file and display its content."
   ]
  },
  {
   "cell_type": "code",
   "execution_count": 25,
   "id": "02f8549f",
   "metadata": {},
   "outputs": [
    {
     "name": "stdout",
     "output_type": "stream",
     "text": [
      "Loaded Tuple: (1, 'apple', 3.14, 'orange', 5)\n"
     ]
    }
   ],
   "source": [
    "import pickle\n",
    "file_path = 'pickled_tuple.pkl'\n",
    "\n",
    "with open(file_path, 'rb') as file:\n",
    "    loaded_tuple = pickle.load(file)\n",
    "\n",
    "print(\"Loaded Tuple:\", loaded_tuple)\n"
   ]
  },
  {
   "cell_type": "code",
   "execution_count": null,
   "id": "87a71d63",
   "metadata": {},
   "outputs": [],
   "source": []
  }
 ],
 "metadata": {
  "kernelspec": {
   "display_name": "Python 3 (ipykernel)",
   "language": "python",
   "name": "python3"
  },
  "language_info": {
   "codemirror_mode": {
    "name": "ipython",
    "version": 3
   },
   "file_extension": ".py",
   "mimetype": "text/x-python",
   "name": "python",
   "nbconvert_exporter": "python",
   "pygments_lexer": "ipython3",
   "version": "3.11.5"
  }
 },
 "nbformat": 4,
 "nbformat_minor": 5
}
