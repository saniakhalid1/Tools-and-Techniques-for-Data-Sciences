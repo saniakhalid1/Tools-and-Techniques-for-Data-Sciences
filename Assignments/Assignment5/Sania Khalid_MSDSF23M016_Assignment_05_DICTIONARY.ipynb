{
 "cells": [
  {
   "cell_type": "markdown",
   "id": "d3b1242a",
   "metadata": {},
   "source": [
    "### Assignment-05 (DICTIONARY)\n",
    "- Change the notebook name with your name and Roll Number.\n",
    "- Try this as your own, no chatgpt (it's for your learning)\n",
    "- after completing the assignment, submit this book on google class room."
   ]
  },
  {
   "cell_type": "markdown",
   "id": "3079cae1",
   "metadata": {},
   "source": [
    "    Create an empty dictionary and print it.\n"
   ]
  },
  {
   "cell_type": "code",
   "execution_count": 1,
   "id": "1e0b1c0d",
   "metadata": {},
   "outputs": [
    {
     "name": "stdout",
     "output_type": "stream",
     "text": [
      "{}\n"
     ]
    }
   ],
   "source": [
    "empty = {}\n",
    "print(empty)\n"
   ]
  },
  {
   "cell_type": "markdown",
   "id": "c02f03e9",
   "metadata": {},
   "source": [
    "    Create a dictionary representing a person with keys such as 'name', 'age', and 'city'.\n"
   ]
  },
  {
   "cell_type": "code",
   "execution_count": 2,
   "id": "1c55f8a0",
   "metadata": {},
   "outputs": [
    {
     "name": "stdout",
     "output_type": "stream",
     "text": [
      "{'name': 'Sania Khalid', 'age': 22, 'city': 'Lahore'}\n"
     ]
    }
   ],
   "source": [
    "person = {\n",
    "    'name': 'Sania Khalid',\n",
    "    'age': 22,\n",
    "    'city': 'Lahore'\n",
    "}\n",
    "print(person)\n"
   ]
  },
  {
   "cell_type": "markdown",
   "id": "3de2a866",
   "metadata": {},
   "source": [
    "    Create a dictionary that includes keys with different data types (strings, integers)."
   ]
  },
  {
   "cell_type": "code",
   "execution_count": 3,
   "id": "89c0b2ee",
   "metadata": {},
   "outputs": [
    {
     "name": "stdout",
     "output_type": "stream",
     "text": [
      "{'name': 'Sania', 'age': 22, 'is_student': True, 'grades': [95, 87, 92]}\n"
     ]
    }
   ],
   "source": [
    "mixed_dictionary = {\n",
    "    'name': 'Sania',\n",
    "    'age': 22,\n",
    "    'is_student': True,\n",
    "    'grades': [95, 87, 92],\n",
    "}\n",
    "\n",
    "# Printing the mixed dictionary\n",
    "print(mixed_dictionary)\n"
   ]
  },
  {
   "cell_type": "markdown",
   "id": "41ce050c",
   "metadata": {},
   "source": [
    "Access and print the value associated with a specific key."
   ]
  },
  {
   "cell_type": "code",
   "execution_count": 5,
   "id": "ec5dbc94",
   "metadata": {},
   "outputs": [
    {
     "name": "stdout",
     "output_type": "stream",
     "text": [
      "Name: Sania\n"
     ]
    }
   ],
   "source": [
    "mixed_dictionary = {\n",
    "    'name': 'Sania',\n",
    "    'age': 22,\n",
    "    'is_student': True,\n",
    "    'grades': [95, 87, 92],\n",
    "}\n",
    "Name = mixed_dictionary['name']\n",
    "print('Name:', Name)"
   ]
  },
  {
   "cell_type": "markdown",
   "id": "b6b0c37d",
   "metadata": {},
   "source": [
    "    Use the get() method to access a value, providing a default value if the key is not present.\n"
   ]
  },
  {
   "cell_type": "code",
   "execution_count": 10,
   "id": "7aa9e88c",
   "metadata": {},
   "outputs": [
    {
     "name": "stdout",
     "output_type": "stream",
     "text": [
      "Name: Sania\n"
     ]
    }
   ],
   "source": [
    "name_value = mixed_dictionary.get('name', 'Default Name')\n",
    "print('Name:', name_value)\n"
   ]
  },
  {
   "cell_type": "markdown",
   "id": "fd070da0",
   "metadata": {},
   "source": [
    "    Iterate through the keys of a dictionary and print each key."
   ]
  },
  {
   "cell_type": "code",
   "execution_count": 12,
   "id": "20a421cc",
   "metadata": {},
   "outputs": [
    {
     "name": "stdout",
     "output_type": "stream",
     "text": [
      "name: Sania\n",
      "age: 22\n",
      "is_student: True\n",
      "grades: [95, 87, 92]\n"
     ]
    }
   ],
   "source": [
    "for key, value in mixed_dictionary.items():\n",
    "    print(f'{key}: {value}')\n",
    "\n"
   ]
  },
  {
   "cell_type": "markdown",
   "id": "b743bd62",
   "metadata": {},
   "source": [
    "Add a new key-value pair to a dictionary."
   ]
  },
  {
   "cell_type": "code",
   "execution_count": 14,
   "id": "db404144",
   "metadata": {},
   "outputs": [
    {
     "name": "stdout",
     "output_type": "stream",
     "text": [
      "{'name': 'Sania', 'age': 22, 'is_student': True, 'grades': [95, 87, 92], 'new_key': 'This is new key'}\n"
     ]
    }
   ],
   "source": [
    "\n",
    "mixed_dictionary['new_key'] = 'This is new key'\n",
    "\n",
    "print(mixed_dictionary)\n"
   ]
  },
  {
   "cell_type": "markdown",
   "id": "ef13537b",
   "metadata": {},
   "source": [
    "Modify the value associated with an existing key."
   ]
  },
  {
   "cell_type": "code",
   "execution_count": 15,
   "id": "5e655290",
   "metadata": {},
   "outputs": [
    {
     "name": "stdout",
     "output_type": "stream",
     "text": [
      "{'name': 'Sania', 'age': 31, 'is_student': True, 'grades': [95, 87, 92], 'new_key': 'This is new key'}\n"
     ]
    }
   ],
   "source": [
    "mixed_dictionary['age'] = 31\n",
    "\n",
    "print(mixed_dictionary)\n"
   ]
  },
  {
   "cell_type": "markdown",
   "id": "2ff9fb92",
   "metadata": {},
   "source": [
    "Remove a specific key-value pair from a dictionary using the pop() method.\n",
    "\n"
   ]
  },
  {
   "cell_type": "code",
   "execution_count": 16,
   "id": "1bdb4169",
   "metadata": {},
   "outputs": [
    {
     "name": "stdout",
     "output_type": "stream",
     "text": [
      "Updated Dictionary: {'name': 'Sania', 'age': 31, 'grades': [95, 87, 92], 'new_key': 'This is new key'}\n",
      "Removed Value: True\n"
     ]
    }
   ],
   "source": [
    "removed_value = mixed_dictionary.pop('is_student')\n",
    "print(\"Updated Dictionary:\", mixed_dictionary)\n",
    "print(\"Removed Value:\", removed_value)\n"
   ]
  },
  {
   "cell_type": "markdown",
   "id": "edc2abf7",
   "metadata": {},
   "source": [
    "    Remove a specific key-value pair from a dictionary using the del statement."
   ]
  },
  {
   "cell_type": "code",
   "execution_count": 17,
   "id": "538eca73",
   "metadata": {},
   "outputs": [
    {
     "name": "stdout",
     "output_type": "stream",
     "text": [
      "Updated Dictionary: {'name': 'Sania', 'grades': [95, 87, 92], 'new_key': 'This is new key'}\n"
     ]
    }
   ],
   "source": [
    "del mixed_dictionary['age']\n",
    "\n",
    "print(\"Updated Dictionary:\", mixed_dictionary)\n"
   ]
  },
  {
   "cell_type": "markdown",
   "id": "0f2d7e6a",
   "metadata": {},
   "source": [
    "Convert a dictionary to a list of keys."
   ]
  },
  {
   "cell_type": "code",
   "execution_count": 18,
   "id": "5705250c",
   "metadata": {},
   "outputs": [
    {
     "name": "stdout",
     "output_type": "stream",
     "text": [
      "List of Keys: ['name', 'grades', 'new_key']\n"
     ]
    }
   ],
   "source": [
    "keys_list = list(mixed_dictionary.keys())\n",
    "\n",
    "# Print the list of keys\n",
    "print(\"List of Keys:\", keys_list)\n"
   ]
  },
  {
   "cell_type": "markdown",
   "id": "1191e090",
   "metadata": {},
   "source": [
    "    Convert a dictionary to a list of values.\n"
   ]
  },
  {
   "cell_type": "code",
   "execution_count": 19,
   "id": "e89b908a",
   "metadata": {},
   "outputs": [
    {
     "name": "stdout",
     "output_type": "stream",
     "text": [
      "List of Values: ['Sania', [95, 87, 92], 'This is new key']\n"
     ]
    }
   ],
   "source": [
    "values_list = list(mixed_dictionary.values())\n",
    "print(\"List of Values:\", values_list)"
   ]
  },
  {
   "cell_type": "markdown",
   "id": "f72c7f5e",
   "metadata": {},
   "source": [
    "    Convert a list of tuples to a dictionary."
   ]
  },
  {
   "cell_type": "code",
   "execution_count": 20,
   "id": "2f531bc4",
   "metadata": {},
   "outputs": [
    {
     "name": "stdout",
     "output_type": "stream",
     "text": [
      "Resulting Dictionary: {'name': 'Sania', 'age': 31}\n"
     ]
    }
   ],
   "source": [
    "list_of_tuples = [('name', 'Sania'), ('age', 31)]\n",
    "\n",
    "# Convert the list of tuples to a dictionary\n",
    "tuple_dict = dict(list_of_tuples)\n",
    "\n",
    "print(\"Resulting Dictionary:\", tuple_dict)\n"
   ]
  },
  {
   "cell_type": "markdown",
   "id": "8ce9bedf",
   "metadata": {},
   "source": [
    "Use the keys() method to get a list of keys in a dictionary.\n"
   ]
  },
  {
   "cell_type": "code",
   "execution_count": 21,
   "id": "7d975a45",
   "metadata": {},
   "outputs": [
    {
     "name": "stdout",
     "output_type": "stream",
     "text": [
      "List of Keys: ['name', 'age']\n"
     ]
    }
   ],
   "source": [
    "my_dict = {'name': 'Sania', 'age': 22}\n",
    "\n",
    "keys_list = list(my_dict.keys())\n",
    "print(\"List of Keys:\", keys_list)\n"
   ]
  },
  {
   "cell_type": "markdown",
   "id": "8adb7c9d",
   "metadata": {},
   "source": [
    "\n",
    "    Use the values() method to get a list of values in a dictionary.\n"
   ]
  },
  {
   "cell_type": "code",
   "execution_count": 22,
   "id": "fb8a455c",
   "metadata": {},
   "outputs": [
    {
     "name": "stdout",
     "output_type": "stream",
     "text": [
      "List of Values: ['Sania', 22]\n"
     ]
    }
   ],
   "source": [
    "# Dictionary\n",
    "my_dict = {'name': 'Sania', 'age': 22}\n",
    "\n",
    "values_list = list(my_dict.values())\n",
    "\n",
    "# Print the list of values\n",
    "print(\"List of Values:\", values_list)\n"
   ]
  },
  {
   "cell_type": "markdown",
   "id": "b4b044e4",
   "metadata": {},
   "source": [
    "    Use the items() method to get a list of key-value pairs in a dictionary."
   ]
  },
  {
   "cell_type": "code",
   "execution_count": 23,
   "id": "ca390b74",
   "metadata": {},
   "outputs": [
    {
     "name": "stdout",
     "output_type": "stream",
     "text": [
      "List of Key-Value Pairs: [('name', 'Sania'), ('age', 22), ('city', 'LAHORE')]\n"
     ]
    }
   ],
   "source": [
    "my_dict = {'name': 'Sania', 'age': 22, 'city': 'LAHORE'}\n",
    "\n",
    "items_list = list(my_dict.items())\n",
    "print(\"List of Key-Value Pairs:\", items_list)"
   ]
  },
  {
   "cell_type": "markdown",
   "id": "bd4eb41b",
   "metadata": {},
   "source": [
    "Check if a key is present in a dictionary using the in operator.\n",
    "\n"
   ]
  },
  {
   "cell_type": "code",
   "execution_count": 24,
   "id": "39c2a92f",
   "metadata": {},
   "outputs": [
    {
     "name": "stdout",
     "output_type": "stream",
     "text": [
      "The key 'age' is present in the dictionary.\n"
     ]
    }
   ],
   "source": [
    "my_dict = {'name': 'Sania', 'age': 22, 'city': 'LAHORE'}\n",
    "key_to_check = 'age'\n",
    "if key_to_check in my_dict:\n",
    "    print(f\"The key '{key_to_check}' is present in the dictionary.\")\n",
    "else:\n",
    "    print(f\"The key '{key_to_check}' is not present in the dictionary.\")\n"
   ]
  },
  {
   "cell_type": "markdown",
   "id": "ba80007f",
   "metadata": {},
   "source": [
    "    Use the setdefault() method to add a key with a default value if it doesn't exist.\n"
   ]
  },
  {
   "cell_type": "code",
   "execution_count": 26,
   "id": "cc19bd44",
   "metadata": {},
   "outputs": [
    {
     "name": "stdout",
     "output_type": "stream",
     "text": [
      "Updated Dictionary: {'name': 'Sania Khalid', 'age': 22, 'city': 'Lahore', 'gender': 'female'}\n",
      "Default Value for 'gender': female\n"
     ]
    }
   ],
   "source": [
    "my_dict = {'name': 'Sania Khalid', 'age': 22, 'city': 'Lahore'}\n",
    "\n",
    "\n",
    "default_value = my_dict.setdefault('gender', 'female')\n",
    "\n",
    "print(\"Updated Dictionary:\", my_dict)\n",
    "print(\"Default Value for 'gender':\", default_value)\n"
   ]
  },
  {
   "cell_type": "markdown",
   "id": "5dd9b173",
   "metadata": {},
   "source": [
    "    Merge two dictionaries using the update() method.\n"
   ]
  },
  {
   "cell_type": "code",
   "execution_count": 27,
   "id": "05e95981",
   "metadata": {},
   "outputs": [
    {
     "name": "stdout",
     "output_type": "stream",
     "text": [
      "Merged Dictionary: {'name': 'Sania', 'age': 22, 'city': 'Lahore', 'gender': 'Male', 'occupation': 'Data Engineer'}\n"
     ]
    }
   ],
   "source": [
    "dict1 = {'name': 'Sania', 'age': 22, 'city': 'Lahore'}\n",
    "\n",
    "# Second dictionary\n",
    "dict2 = {'gender': 'Male', 'occupation': 'Data Engineer'}\n",
    "\n",
    "dict1.update(dict2)\n",
    "\n",
    "# Print the merged dictionary\n",
    "print(\"Merged Dictionary:\", dict1)\n"
   ]
  },
  {
   "cell_type": "markdown",
   "id": "1415c188",
   "metadata": {},
   "source": [
    "    Use the clear() method to remove all elements from a dictionary."
   ]
  },
  {
   "cell_type": "code",
   "execution_count": 28,
   "id": "bdf48d4c",
   "metadata": {},
   "outputs": [
    {
     "name": "stdout",
     "output_type": "stream",
     "text": [
      "Empty Dictionary: {}\n"
     ]
    }
   ],
   "source": [
    "dict1 = {'name': 'Sania', 'age': 22, 'city': 'Lahore'}\n",
    "my_dict.clear()\n",
    "\n",
    "print(\"Empty Dictionary:\", my_dict)\n"
   ]
  },
  {
   "cell_type": "code",
   "execution_count": null,
   "id": "45ccb4a0",
   "metadata": {},
   "outputs": [],
   "source": []
  }
 ],
 "metadata": {
  "kernelspec": {
   "display_name": "Python 3 (ipykernel)",
   "language": "python",
   "name": "python3"
  },
  "language_info": {
   "codemirror_mode": {
    "name": "ipython",
    "version": 3
   },
   "file_extension": ".py",
   "mimetype": "text/x-python",
   "name": "python",
   "nbconvert_exporter": "python",
   "pygments_lexer": "ipython3",
   "version": "3.11.5"
  }
 },
 "nbformat": 4,
 "nbformat_minor": 5
}
