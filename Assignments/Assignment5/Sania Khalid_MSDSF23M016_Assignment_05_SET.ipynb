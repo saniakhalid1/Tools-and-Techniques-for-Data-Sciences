{
 "cells": [
  {
   "cell_type": "markdown",
   "id": "a97576a6",
   "metadata": {},
   "source": [
    "### Assignment-05 (SET)\n",
    "- Change the notebook name with your name and Roll Number.\n",
    "- Try this as your own, no chatgpt (it's for your learning)\n",
    "- after completing the assignment, submit this book on google class room."
   ]
  },
  {
   "cell_type": "markdown",
   "id": "d1ddf3da",
   "metadata": {},
   "source": [
    "    Create an empty set and print it.\n",
    "  "
   ]
  },
  {
   "cell_type": "code",
   "execution_count": 1,
   "id": "c9e9db1e",
   "metadata": {},
   "outputs": [
    {
     "name": "stdout",
     "output_type": "stream",
     "text": [
      "set()\n"
     ]
    }
   ],
   "source": [
    "empty_set = set()\n",
    "print(empty_set)\n"
   ]
  },
  {
   "cell_type": "markdown",
   "id": "eeb8fb4d",
   "metadata": {},
   "source": [
    "  Create a set of your favorite colors and print it.\n"
   ]
  },
  {
   "cell_type": "code",
   "execution_count": 2,
   "id": "d8867e41",
   "metadata": {},
   "outputs": [
    {
     "name": "stdout",
     "output_type": "stream",
     "text": [
      "{'purple', 'blue', 'red', 'green'}\n"
     ]
    }
   ],
   "source": [
    "favorite_colors = {'blue', 'green', 'red', 'purple'}\n",
    "\n",
    "print(favorite_colors)\n"
   ]
  },
  {
   "cell_type": "markdown",
   "id": "5e724df6",
   "metadata": {},
   "source": [
    "    Create a set that includes a mix of data types (integers, strings, floats)."
   ]
  },
  {
   "cell_type": "code",
   "execution_count": 3,
   "id": "e496901a",
   "metadata": {},
   "outputs": [
    {
     "name": "stdout",
     "output_type": "stream",
     "text": [
      "{1, 3.14, 'apple', 'orange'}\n"
     ]
    }
   ],
   "source": [
    "mixed_set = {1, 'apple', 3.14, 'orange'}\n",
    "print(mixed_set)"
   ]
  },
  {
   "cell_type": "markdown",
   "id": "d2b80125",
   "metadata": {},
   "source": [
    "Access the elements of a set using a loop and print each element."
   ]
  },
  {
   "cell_type": "code",
   "execution_count": 4,
   "id": "3ceec096",
   "metadata": {},
   "outputs": [
    {
     "name": "stdout",
     "output_type": "stream",
     "text": [
      "apple\n",
      "2\n",
      "3.14\n",
      "orange\n"
     ]
    }
   ],
   "source": [
    "mixed_set = {2, 'apple', 3.14, 'orange'}\n",
    "\n",
    "for element in mixed_set:\n",
    "    print(element)\n"
   ]
  },
  {
   "cell_type": "markdown",
   "id": "08fdccf7",
   "metadata": {},
   "source": [
    "add a new element to a set using the add() method."
   ]
  },
  {
   "cell_type": "code",
   "execution_count": 5,
   "id": "5d5273f9",
   "metadata": {},
   "outputs": [
    {
     "name": "stdout",
     "output_type": "stream",
     "text": [
      "{1, 2, 3, 'apple', 'orange'}\n"
     ]
    }
   ],
   "source": [
    "my_set = {1, 2, 3, 'apple'}\n",
    "my_set.add('orange')\n",
    "print(my_set)"
   ]
  },
  {
   "cell_type": "markdown",
   "id": "c8257b4c",
   "metadata": {},
   "source": [
    "Add multiple elements to a set using the update() method."
   ]
  },
  {
   "cell_type": "code",
   "execution_count": 6,
   "id": "d3fe8634",
   "metadata": {},
   "outputs": [
    {
     "name": "stdout",
     "output_type": "stream",
     "text": [
      "{1, 2, 3, 4, 'apple', 'banana', 'orange'}\n"
     ]
    }
   ],
   "source": [
    "my_set = {1, 2, 3, 'apple'}\n",
    "my_set.update(['orange', 4, 'banana'])\n",
    "print(my_set)\n"
   ]
  },
  {
   "cell_type": "markdown",
   "id": "e8adbe50",
   "metadata": {},
   "source": [
    "Remove and return an arbitrary element from a set using the pop() method."
   ]
  },
  {
   "cell_type": "code",
   "execution_count": 7,
   "id": "bfdcad15",
   "metadata": {},
   "outputs": [
    {
     "name": "stdout",
     "output_type": "stream",
     "text": [
      "Removed Element: 1\n",
      "Updated Set: {2, 3, 'apple', 'banana', 'orange'}\n"
     ]
    }
   ],
   "source": [
    "my_set = {1, 2, 3, 'apple', 'orange', 'banana'}\n",
    "removed_element = my_set.pop()\n",
    "\n",
    "print(\"Removed Element:\", removed_element)\n",
    "print(\"Updated Set:\", my_set)\n"
   ]
  },
  {
   "cell_type": "markdown",
   "id": "6bacfc71",
   "metadata": {},
   "source": [
    "Remove a specific element from a set using the remove() method."
   ]
  },
  {
   "cell_type": "code",
   "execution_count": 8,
   "id": "d7d4d697",
   "metadata": {},
   "outputs": [
    {
     "name": "stdout",
     "output_type": "stream",
     "text": [
      "Updated Set: {1, 2, 3, 'banana', 'orange'}\n"
     ]
    }
   ],
   "source": [
    "my_set = {1, 2, 3, 'apple', 'orange', 'banana'}\n",
    "my_set.remove('apple')\n",
    "print(\"Updated Set:\", my_set)\n"
   ]
  },
  {
   "cell_type": "markdown",
   "id": "1844da3c",
   "metadata": {},
   "source": [
    "Remove a specific element from a set using the discard() method."
   ]
  },
  {
   "cell_type": "code",
   "execution_count": 9,
   "id": "36164bf7",
   "metadata": {},
   "outputs": [
    {
     "name": "stdout",
     "output_type": "stream",
     "text": [
      "Updated Set: {1, 2, 3, 'banana', 'orange'}\n"
     ]
    }
   ],
   "source": [
    "my_set = {1, 2, 3, 'apple', 'orange', 'banana'}\n",
    "my_set.discard('apple')\n",
    "print(\"Updated Set:\", my_set)\n"
   ]
  },
  {
   "cell_type": "markdown",
   "id": "8bd3aadb",
   "metadata": {},
   "source": [
    "Convert a string to a set of unique characters."
   ]
  },
  {
   "cell_type": "code",
   "execution_count": 10,
   "id": "5d135ac7",
   "metadata": {},
   "outputs": [
    {
     "name": "stdout",
     "output_type": "stream",
     "text": [
      "Set of Unique Characters: {'S', 'a', 'i', 'K', 'l', 'h', ' ', 'd', 'n'}\n"
     ]
    }
   ],
   "source": [
    "my_string = \"Sania Khalid\"\n",
    "unique_characters_set = set(my_string)\n",
    "print(\"Set of Unique Characters:\", unique_characters_set)"
   ]
  },
  {
   "cell_type": "markdown",
   "id": "6c622821",
   "metadata": {},
   "source": [
    "Convert a set of characters to a string."
   ]
  },
  {
   "cell_type": "code",
   "execution_count": 11,
   "id": "fb3156ac",
   "metadata": {},
   "outputs": [
    {
     "name": "stdout",
     "output_type": "stream",
     "text": [
      "String from Set of Characters: aiklh sdn\n"
     ]
    }
   ],
   "source": [
    "char_set = {' s', 'a', 'n', 'i', 'a', 'k', 'h', 'a', 'l', 'i', 'd'}\n",
    "\n",
    "char_string = ''.join(char_set)\n",
    "\n",
    "print(\"String from Set of Characters:\", char_string)\n"
   ]
  },
  {
   "cell_type": "markdown",
   "id": "9a426c8f",
   "metadata": {},
   "source": [
    "Use the clear() method to remove all elements from a set."
   ]
  },
  {
   "cell_type": "code",
   "execution_count": 12,
   "id": "88a65643",
   "metadata": {},
   "outputs": [
    {
     "name": "stdout",
     "output_type": "stream",
     "text": [
      "Empty Set: set()\n"
     ]
    }
   ],
   "source": [
    "my_set = {1, 2, 3, 'apple', 'orange', 'banana'}\n",
    "\n",
    "my_set.clear()\n",
    "print(\"Empty Set:\", my_set)\n"
   ]
  },
  {
   "cell_type": "markdown",
   "id": "9edea94d",
   "metadata": {},
   "source": [
    "Use the copy() method to create a shallow copy of a set."
   ]
  },
  {
   "cell_type": "code",
   "execution_count": 13,
   "id": "eb4e0b56",
   "metadata": {},
   "outputs": [
    {
     "name": "stdout",
     "output_type": "stream",
     "text": [
      "Original Set: {1, 2, 3, 'apple', 'banana', 'orange'}\n",
      "Copied Set: {1, 2, 3, 'apple', 'banana', 'orange'}\n"
     ]
    }
   ],
   "source": [
    "original_set = {1, 2, 3, 'apple', 'orange', 'banana'}\n",
    "copied_set = original_set.copy()\n",
    "print(\"Original Set:\", original_set)\n",
    "print(\"Copied Set:\", copied_set)\n"
   ]
  },
  {
   "cell_type": "markdown",
   "id": "cd9c69f0",
   "metadata": {},
   "source": [
    "Use the difference() method to find the difference between two sets."
   ]
  },
  {
   "cell_type": "code",
   "execution_count": 14,
   "id": "2f816d0f",
   "metadata": {},
   "outputs": [
    {
     "name": "stdout",
     "output_type": "stream",
     "text": [
      "Set Difference: {1, 2}\n"
     ]
    }
   ],
   "source": [
    "set1 = {1, 2, 3, 4, 5}\n",
    "set2 = {3, 4, 5, 6, 7}\n",
    "\n",
    "difference_set = set1.difference(set2)\n",
    "print(\"Set Difference:\", difference_set)\n"
   ]
  },
  {
   "cell_type": "markdown",
   "id": "307c3f1a",
   "metadata": {},
   "source": [
    "Create two sets and find their union."
   ]
  },
  {
   "cell_type": "code",
   "execution_count": 15,
   "id": "fac5a114",
   "metadata": {},
   "outputs": [
    {
     "name": "stdout",
     "output_type": "stream",
     "text": [
      "Union using union(): {1, 2, 3, 4, 5, 6, 7}\n",
      "Union using | operator: {1, 2, 3, 4, 5, 6, 7}\n"
     ]
    }
   ],
   "source": [
    "set1 = {1, 2, 3, 4, 5}\n",
    "set2 = {3, 4, 5, 6, 7}\n",
    "\n",
    "union_set_method = set1.union(set2)\n",
    "\n",
    "union_set_operator = set1 | set2\n",
    "print(\"Union using union():\", union_set_method)\n",
    "print(\"Union using | operator:\", union_set_operator)\n"
   ]
  },
  {
   "cell_type": "markdown",
   "id": "eaf6ba0c",
   "metadata": {},
   "source": [
    "    Create two sets and find their intersection.\n",
    "   "
   ]
  },
  {
   "cell_type": "code",
   "execution_count": 16,
   "id": "1169662c",
   "metadata": {},
   "outputs": [
    {
     "name": "stdout",
     "output_type": "stream",
     "text": [
      "Intersection using intersection(): {3, 4, 5}\n",
      "Intersection using & operator: {3, 4, 5}\n"
     ]
    }
   ],
   "source": [
    "set1 = {1, 2, 3, 4, 5}\n",
    "set2 = {3, 4, 5, 6, 7}\n",
    "\n",
    "intersection_set_method = set1.intersection(set2)\n",
    "intersection_set_operator = set1 & set2\n",
    "print(\"Intersection using intersection():\", intersection_set_method)\n",
    "print(\"Intersection using & operator:\", intersection_set_operator)\n"
   ]
  },
  {
   "cell_type": "markdown",
   "id": "859e1d7f",
   "metadata": {},
   "source": [
    " Create two sets and find their difference.\n"
   ]
  },
  {
   "cell_type": "code",
   "execution_count": 17,
   "id": "681f05e6",
   "metadata": {},
   "outputs": [
    {
     "name": "stdout",
     "output_type": "stream",
     "text": [
      "Difference using difference(): {1, 2}\n",
      "Difference using - operator: {1, 2}\n"
     ]
    }
   ],
   "source": [
    "set1 = {1, 2, 3, 4, 5}\n",
    "set2 = {3, 4, 5, 6, 7}\n",
    "difference_set_method = set1.difference(set2)\n",
    "difference_set_operator = set1 - set2\n",
    "print(\"Difference using difference():\", difference_set_method)\n",
    "print(\"Difference using - operator:\", difference_set_operator)\n"
   ]
  },
  {
   "cell_type": "markdown",
   "id": "b1c839f5",
   "metadata": {},
   "source": [
    "    Create two sets and find their symmetric difference."
   ]
  },
  {
   "cell_type": "code",
   "execution_count": 18,
   "id": "c2695bb7",
   "metadata": {},
   "outputs": [
    {
     "name": "stdout",
     "output_type": "stream",
     "text": [
      "Symmetric Difference using symmetric_difference(): {1, 2, 6, 7}\n",
      "Symmetric Difference using ^ operator: {1, 2, 6, 7}\n"
     ]
    }
   ],
   "source": [
    "set1 = {1, 2, 3, 4, 5}\n",
    "set2 = {3, 4, 5, 6, 7}\n",
    "\n",
    "symmetric_difference_method = set1.symmetric_difference(set2)\n",
    "\n",
    "symmetric_difference_operator = set1 ^ set2\n",
    "\n",
    "print(\"Symmetric Difference using symmetric_difference():\", symmetric_difference_method)\n",
    "print(\"Symmetric Difference using ^ operator:\", symmetric_difference_operator)\n"
   ]
  },
  {
   "cell_type": "markdown",
   "id": "41933917",
   "metadata": {},
   "source": [
    "Check if one set is a subset of another."
   ]
  },
  {
   "cell_type": "code",
   "execution_count": 19,
   "id": "fc3d1fd0",
   "metadata": {},
   "outputs": [
    {
     "name": "stdout",
     "output_type": "stream",
     "text": [
      "Is set2 a subset of set1 using issubset(): True\n",
      "Is set2 a subset of set1 using <= operator: True\n"
     ]
    }
   ],
   "source": [
    "set1 = {1, 2, 3, 4, 5}\n",
    "set2 = {1, 2, 3}\n",
    "\n",
    "is_subset_method = set2.issubset(set1)\n",
    "is_subset_operator = set2 <= set1\n",
    "\n",
    "print(\"Is set2 a subset of set1 using issubset():\", is_subset_method)\n",
    "print(\"Is set2 a subset of set1 using <= operator:\", is_subset_operator)\n"
   ]
  },
  {
   "cell_type": "markdown",
   "id": "65174e5c",
   "metadata": {},
   "source": [
    "    Check if one set is a superset of another.\n"
   ]
  },
  {
   "cell_type": "code",
   "execution_count": 20,
   "id": "cc34dbf9",
   "metadata": {},
   "outputs": [
    {
     "name": "stdout",
     "output_type": "stream",
     "text": [
      "Is set1 a superset of set2 using issuperset(): True\n",
      "Is set1 a superset of set2 using >= operator: True\n"
     ]
    }
   ],
   "source": [
    "set1 = {1, 2, 3, 4, 5}\n",
    "set2 = {1, 2, 3}\n",
    "\n",
    "is_superset_method = set1.issuperset(set2)\n",
    "is_superset_operator = set1 >= set2\n",
    "\n",
    "print(\"Is set1 a superset of set2 using issuperset():\", is_superset_method)\n",
    "print(\"Is set1 a superset of set2 using >= operator:\", is_superset_operator)\n"
   ]
  },
  {
   "cell_type": "markdown",
   "id": "e8b05467",
   "metadata": {},
   "source": [
    "    Check if two sets are disjoint (have no common elements)."
   ]
  },
  {
   "cell_type": "code",
   "execution_count": 21,
   "id": "f5e84a48",
   "metadata": {},
   "outputs": [
    {
     "name": "stdout",
     "output_type": "stream",
     "text": [
      "Are the sets disjoint? True\n"
     ]
    }
   ],
   "source": [
    "\n",
    "set1 = {1, 2, 3, 4, 5}\n",
    "set2 = {6, 7, 8}\n",
    "\n",
    "are_disjoint = set1.isdisjoint(set2)\n",
    "\n",
    "# Print the result\n",
    "print(\"Are the sets disjoint?\", are_disjoint)\n"
   ]
  },
  {
   "cell_type": "code",
   "execution_count": null,
   "id": "0ff89305",
   "metadata": {},
   "outputs": [],
   "source": []
  }
 ],
 "metadata": {
  "kernelspec": {
   "display_name": "Python 3 (ipykernel)",
   "language": "python",
   "name": "python3"
  },
  "language_info": {
   "codemirror_mode": {
    "name": "ipython",
    "version": 3
   },
   "file_extension": ".py",
   "mimetype": "text/x-python",
   "name": "python",
   "nbconvert_exporter": "python",
   "pygments_lexer": "ipython3",
   "version": "3.11.5"
  }
 },
 "nbformat": 4,
 "nbformat_minor": 5
}
