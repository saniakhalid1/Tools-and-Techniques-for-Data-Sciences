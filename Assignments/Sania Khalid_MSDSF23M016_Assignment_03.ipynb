{
 "cells": [
  {
   "cell_type": "markdown",
   "id": "97dd878a",
   "metadata": {},
   "source": [
    "### Assignment-03 (Strings)\n",
    "- Change the notebook name with your name and Roll Number.\n",
    "- Try this as your own, no chatgpt (it's for your learning)\n",
    "- after completing the assignment, submit this book on google class room."
   ]
  },
  {
   "cell_type": "markdown",
   "id": "e2bd2715",
   "metadata": {},
   "source": [
    "Create a string variable with your name and print it.\n"
   ]
  },
  {
   "cell_type": "code",
   "execution_count": 1,
   "id": "bb419df7",
   "metadata": {},
   "outputs": [
    {
     "name": "stdout",
     "output_type": "stream",
     "text": [
      "Sania Khalid\n"
     ]
    }
   ],
   "source": [
    "name = \"Sania Khalid\"\n",
    "print(name)\n"
   ]
  },
  {
   "cell_type": "markdown",
   "id": "038709aa",
   "metadata": {},
   "source": [
    "Define a multiline string that includes line breaks and print it.\n"
   ]
  },
  {
   "cell_type": "code",
   "execution_count": 2,
   "id": "707d597b",
   "metadata": {},
   "outputs": [
    {
     "name": "stdout",
     "output_type": "stream",
     "text": [
      "Triple Quotes at the beginning and end of the string allows you to include \n",
      "line breaks within the string.\n",
      "When you run this code, \n",
      "it will print the multiline string with the specified line breaks.\n",
      "\n"
     ]
    }
   ],
   "source": [
    "Multi_Line = '''Triple Quotes at the beginning and end of the string allows you to include \n",
    "line breaks within the string.\n",
    "When you run this code, \n",
    "it will print the multiline string with the specified line breaks.\n",
    "'''\n",
    "print(Multi_Line)\n"
   ]
  },
  {
   "cell_type": "markdown",
   "id": "0c79c559",
   "metadata": {},
   "source": [
    "Access the first character of a string.\n"
   ]
  },
  {
   "cell_type": "code",
   "execution_count": 3,
   "id": "3dd571a7",
   "metadata": {},
   "outputs": [
    {
     "name": "stdout",
     "output_type": "stream",
     "text": [
      "S\n"
     ]
    }
   ],
   "source": [
    "my_name = \"Sania Khalid\"\n",
    "first_character = my_name[0]\n",
    "print(first_character)\n"
   ]
  },
  {
   "cell_type": "markdown",
   "id": "eea487fc",
   "metadata": {},
   "source": [
    "Access the last character of a string.\n"
   ]
  },
  {
   "cell_type": "code",
   "execution_count": 12,
   "id": "3efc26a3",
   "metadata": {},
   "outputs": [
    {
     "name": "stdout",
     "output_type": "stream",
     "text": [
      "d\n"
     ]
    }
   ],
   "source": [
    "my_name = \"Sania Khalid\"\n",
    "last_character = my_name[-1]\n",
    "print(last_character)"
   ]
  },
  {
   "cell_type": "markdown",
   "id": "eafa1f78",
   "metadata": {},
   "source": [
    "Access the second to the fifth character of a string."
   ]
  },
  {
   "cell_type": "code",
   "execution_count": 11,
   "id": "1a183435",
   "metadata": {},
   "outputs": [
    {
     "name": "stdout",
     "output_type": "stream",
     "text": [
      "ania\n"
     ]
    }
   ],
   "source": [
    "my_name = \"Sania Khalid\"\n",
    "character = my_name[1:5]\n",
    "print(character)"
   ]
  },
  {
   "cell_type": "markdown",
   "id": "345dabe1",
   "metadata": {},
   "source": [
    "Attempt to change a character within an existing string and explain the result.\n"
   ]
  },
  {
   "cell_type": "code",
   "execution_count": 10,
   "id": "4a2c3c34",
   "metadata": {},
   "outputs": [
    {
     "name": "stdout",
     "output_type": "stream",
     "text": [
      "The above statement will cause an error, because strings are immutable,\n",
      "      you cannot change into a string. Rather than you can create a new string where you can append\n",
      "Sania KZalid\n"
     ]
    }
   ],
   "source": [
    "my_name = \"Sania Khalid\"\n",
    "\n",
    "print('''The above statement will cause an error, because strings are immutable,\n",
    "      you cannot change into a string. Rather than you can create a new string where you can append''')\n",
    "my_name[2] = 'Z'\n"
   ]
  },
  {
   "cell_type": "markdown",
   "id": "915097a4",
   "metadata": {},
   "source": [
    "\n",
    "Slice a string to obtain the first 3 characters.\n"
   ]
  },
  {
   "cell_type": "code",
   "execution_count": 14,
   "id": "eeafdee2",
   "metadata": {},
   "outputs": [
    {
     "name": "stdout",
     "output_type": "stream",
     "text": [
      "San\n"
     ]
    }
   ],
   "source": [
    "my_name = \"Sania Khalid\"\n",
    "first_three = my_name[:3]\n",
    "print(first_three)"
   ]
  },
  {
   "cell_type": "markdown",
   "id": "97f70e4d",
   "metadata": {},
   "source": [
    "Slice a string to obtain the last 4 characters.\n"
   ]
  },
  {
   "cell_type": "code",
   "execution_count": 16,
   "id": "cd07247a",
   "metadata": {},
   "outputs": [
    {
     "name": "stdout",
     "output_type": "stream",
     "text": [
      "alid\n"
     ]
    }
   ],
   "source": [
    "my_name = \"Sania Khalid\"\n",
    "last_three = my_name[-4:]\n",
    "print(last_three)"
   ]
  },
  {
   "cell_type": "markdown",
   "id": "db421ce3",
   "metadata": {},
   "source": [
    "Slice a string to get every second character.\n"
   ]
  },
  {
   "cell_type": "code",
   "execution_count": 18,
   "id": "a8b066a6",
   "metadata": {},
   "outputs": [
    {
     "name": "stdout",
     "output_type": "stream",
     "text": [
      "SnaKai\n"
     ]
    }
   ],
   "source": [
    "my_name = \"Sania Khalid\"\n",
    "every_second_character = my_name[::2]\n",
    "print(every_second_character)"
   ]
  },
  {
   "cell_type": "markdown",
   "id": "ff5b4751",
   "metadata": {},
   "source": [
    "Reverse a string using slicing."
   ]
  },
  {
   "cell_type": "code",
   "execution_count": 19,
   "id": "c4c4c969",
   "metadata": {},
   "outputs": [
    {
     "name": "stdout",
     "output_type": "stream",
     "text": [
      "dilahK ainaS\n"
     ]
    }
   ],
   "source": [
    "my_name = \"Sania Khalid\"\n",
    "Reverse_character = my_name[::-1]\n",
    "print(Reverse_character)"
   ]
  },
  {
   "cell_type": "markdown",
   "id": "c8b7f82a",
   "metadata": {},
   "source": [
    "Create two string variables and concatenate them.\n",
    "\n"
   ]
  },
  {
   "cell_type": "code",
   "execution_count": 21,
   "id": "c4d4f5ae",
   "metadata": {},
   "outputs": [
    {
     "name": "stdout",
     "output_type": "stream",
     "text": [
      "Sania Khalid\n"
     ]
    }
   ],
   "source": [
    "first = \"Sania \"\n",
    "Second = \"Khalid\"\n",
    "print(first + Second)"
   ]
  },
  {
   "cell_type": "markdown",
   "id": "13e8d4b1",
   "metadata": {},
   "source": [
    "Concatenate a string with a number (convert the number to a string first)."
   ]
  },
  {
   "cell_type": "code",
   "execution_count": 23,
   "id": "cc366c5e",
   "metadata": {},
   "outputs": [
    {
     "name": "stdout",
     "output_type": "stream",
     "text": [
      "3456 Sania Khalid\n"
     ]
    }
   ],
   "source": [
    "number =  3456\n",
    "string = \" Sania Khalid\"\n",
    "number = str(number)\n",
    "print(number + string)"
   ]
  },
  {
   "cell_type": "markdown",
   "id": "201b3886",
   "metadata": {},
   "source": [
    "Generate a string that repeats \"abc\" 10 times.\n",
    "\n"
   ]
  },
  {
   "cell_type": "code",
   "execution_count": 27,
   "id": "01d068c1",
   "metadata": {},
   "outputs": [
    {
     "name": "stdout",
     "output_type": "stream",
     "text": [
      "abcabcabcabcabcabcabcabcabcabc\n"
     ]
    }
   ],
   "source": [
    "repeat = 'abc' *10\n",
    "print(repeat)"
   ]
  },
  {
   "cell_type": "markdown",
   "id": "c668c12f",
   "metadata": {},
   "source": [
    "Create a string containing a repeating pattern of your choice."
   ]
  },
  {
   "cell_type": "code",
   "execution_count": 28,
   "id": "948db73c",
   "metadata": {},
   "outputs": [
    {
     "name": "stdout",
     "output_type": "stream",
     "text": [
      "Sania Khalid Sania Khalid Sania Khalid Sania Khalid Sania Khalid Sania Khalid Sania Khalid Sania Khalid Sania Khalid Sania Khalid \n"
     ]
    }
   ],
   "source": [
    "repeat = 'Sania Khalid '*10\n",
    "print(repeat)"
   ]
  },
  {
   "cell_type": "markdown",
   "id": "597fce86",
   "metadata": {},
   "source": [
    "Convert a string to lowercase using the lower() method.\n"
   ]
  },
  {
   "cell_type": "code",
   "execution_count": 30,
   "id": "091297bd",
   "metadata": {},
   "outputs": [
    {
     "name": "stdout",
     "output_type": "stream",
     "text": [
      "sania khalid\n"
     ]
    }
   ],
   "source": [
    "lower = 'Sania KHalid'\n",
    "print(lower.lower())"
   ]
  },
  {
   "cell_type": "markdown",
   "id": "e96bb408",
   "metadata": {},
   "source": [
    "\n",
    "Convert a string to uppercase using the upper() method.\n"
   ]
  },
  {
   "cell_type": "code",
   "execution_count": 31,
   "id": "a2598fc3",
   "metadata": {},
   "outputs": [
    {
     "name": "stdout",
     "output_type": "stream",
     "text": [
      "SANIA KHALID\n"
     ]
    }
   ],
   "source": [
    "upper = 'Sania KHalid'\n",
    "print(lower.upper())"
   ]
  },
  {
   "cell_type": "markdown",
   "id": "92ab5b20",
   "metadata": {},
   "source": [
    "Remove leading and trailing whitespace from a string using the strip() method.\n"
   ]
  },
  {
   "cell_type": "code",
   "execution_count": 33,
   "id": "0507e93a",
   "metadata": {},
   "outputs": [
    {
     "name": "stdout",
     "output_type": "stream",
     "text": [
      "    Sania KHalid \n",
      "Sania KHalid\n"
     ]
    }
   ],
   "source": [
    "whitespace = '    Sania KHalid '\n",
    "print(whitespace)\n",
    "print(whitespace.strip())"
   ]
  },
  {
   "cell_type": "markdown",
   "id": "a91e7489",
   "metadata": {},
   "source": [
    "Check if a string starts with a specific prefix using the startswith() method.\n"
   ]
  },
  {
   "cell_type": "code",
   "execution_count": 35,
   "id": "3c01dd7d",
   "metadata": {},
   "outputs": [
    {
     "name": "stdout",
     "output_type": "stream",
     "text": [
      "The string starts with the prefix 'San'.\n"
     ]
    }
   ],
   "source": [
    "my_name = \"Sania Khalid\"\n",
    "\n",
    "prefix = \"San\"\n",
    "if my_name.startswith(prefix):\n",
    "    print(f\"The string starts with the prefix '{prefix}'.\")\n",
    "else:\n",
    "    print(f\"The string does not start with the prefix '{prefix}'.\")\n"
   ]
  },
  {
   "cell_type": "markdown",
   "id": "4b8b4581",
   "metadata": {},
   "source": [
    "Split a string into a list of words using the split() method.\n"
   ]
  },
  {
   "cell_type": "code",
   "execution_count": 36,
   "id": "5bcc4070",
   "metadata": {},
   "outputs": [
    {
     "name": "stdout",
     "output_type": "stream",
     "text": [
      "['Hey', 'this', 'is', 'Sania', 'Khalid,', 'currently', 'enrolled', 'in', 'MS', 'Data', 'Sciences']\n"
     ]
    }
   ],
   "source": [
    "string = \"Hey this is Sania Khalid, currently enrolled in MS Data Sciences\"\n",
    "print(string.split())"
   ]
  },
  {
   "cell_type": "markdown",
   "id": "37dd8ff8",
   "metadata": {},
   "source": [
    "Join a list of words into a single string using the join() method."
   ]
  },
  {
   "cell_type": "code",
   "execution_count": 40,
   "id": "473860cd",
   "metadata": {},
   "outputs": [
    {
     "name": "stdout",
     "output_type": "stream",
     "text": [
      "Hello .. This  .. is .. SANIA KHALID\n"
     ]
    }
   ],
   "source": [
    "word = [\"Hello\", \"This \", \"is\", \"SANIA KHALID\"]\n",
    "result_string = \" .. \".join(word)\n",
    "print(result_string)"
   ]
  },
  {
   "cell_type": "code",
   "execution_count": null,
   "id": "1af3ae45",
   "metadata": {},
   "outputs": [],
   "source": []
  }
 ],
 "metadata": {
  "kernelspec": {
   "display_name": "Python 3 (ipykernel)",
   "language": "python",
   "name": "python3"
  },
  "language_info": {
   "codemirror_mode": {
    "name": "ipython",
    "version": 3
   },
   "file_extension": ".py",
   "mimetype": "text/x-python",
   "name": "python",
   "nbconvert_exporter": "python",
   "pygments_lexer": "ipython3",
   "version": "3.11.5"
  }
 },
 "nbformat": 4,
 "nbformat_minor": 5
}
