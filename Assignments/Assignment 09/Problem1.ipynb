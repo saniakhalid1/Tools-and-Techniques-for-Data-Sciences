{
 "cells": [
  {
   "cell_type": "code",
   "execution_count": 75,
   "id": "138cf7d1",
   "metadata": {},
   "outputs": [],
   "source": [
    "import pandas as pd\n",
    "import numpy as np\n",
    "import matplotlib.pyplot as plt\n",
    "import seaborn as sns"
   ]
  },
  {
   "cell_type": "code",
   "execution_count": 76,
   "id": "aa34bbc3",
   "metadata": {},
   "outputs": [],
   "source": [
    "dataset = pd.read_csv('tested.csv')"
   ]
  },
  {
   "cell_type": "code",
   "execution_count": 77,
   "id": "1cfb3868",
   "metadata": {},
   "outputs": [
    {
     "data": {
      "text/plain": [
       "<bound method NDFrame.head of      PassengerId  Survived  Pclass  \\\n",
       "0            892         0       3   \n",
       "1            893         1       3   \n",
       "2            894         0       2   \n",
       "3            895         0       3   \n",
       "4            896         1       3   \n",
       "..           ...       ...     ...   \n",
       "413         1305         0       3   \n",
       "414         1306         1       1   \n",
       "415         1307         0       3   \n",
       "416         1308         0       3   \n",
       "417         1309         0       3   \n",
       "\n",
       "                                             Name     Sex   Age  SibSp  Parch  \\\n",
       "0                                Kelly, Mr. James    male  34.5      0      0   \n",
       "1                Wilkes, Mrs. James (Ellen Needs)  female  47.0      1      0   \n",
       "2                       Myles, Mr. Thomas Francis    male  62.0      0      0   \n",
       "3                                Wirz, Mr. Albert    male  27.0      0      0   \n",
       "4    Hirvonen, Mrs. Alexander (Helga E Lindqvist)  female  22.0      1      1   \n",
       "..                                            ...     ...   ...    ...    ...   \n",
       "413                            Spector, Mr. Woolf    male   NaN      0      0   \n",
       "414                  Oliva y Ocana, Dona. Fermina  female  39.0      0      0   \n",
       "415                  Saether, Mr. Simon Sivertsen    male  38.5      0      0   \n",
       "416                           Ware, Mr. Frederick    male   NaN      0      0   \n",
       "417                      Peter, Master. Michael J    male   NaN      1      1   \n",
       "\n",
       "                 Ticket      Fare Cabin Embarked  \n",
       "0                330911    7.8292   NaN        Q  \n",
       "1                363272    7.0000   NaN        S  \n",
       "2                240276    9.6875   NaN        Q  \n",
       "3                315154    8.6625   NaN        S  \n",
       "4               3101298   12.2875   NaN        S  \n",
       "..                  ...       ...   ...      ...  \n",
       "413           A.5. 3236    8.0500   NaN        S  \n",
       "414            PC 17758  108.9000  C105        C  \n",
       "415  SOTON/O.Q. 3101262    7.2500   NaN        S  \n",
       "416              359309    8.0500   NaN        S  \n",
       "417                2668   22.3583   NaN        C  \n",
       "\n",
       "[418 rows x 12 columns]>"
      ]
     },
     "execution_count": 77,
     "metadata": {},
     "output_type": "execute_result"
    }
   ],
   "source": [
    "dataset.head"
   ]
  },
  {
   "cell_type": "code",
   "execution_count": 78,
   "id": "7b8b6a3b",
   "metadata": {},
   "outputs": [
    {
     "data": {
      "text/plain": [
       "<bound method DataFrame.info of      PassengerId  Survived  Pclass  \\\n",
       "0            892         0       3   \n",
       "1            893         1       3   \n",
       "2            894         0       2   \n",
       "3            895         0       3   \n",
       "4            896         1       3   \n",
       "..           ...       ...     ...   \n",
       "413         1305         0       3   \n",
       "414         1306         1       1   \n",
       "415         1307         0       3   \n",
       "416         1308         0       3   \n",
       "417         1309         0       3   \n",
       "\n",
       "                                             Name     Sex   Age  SibSp  Parch  \\\n",
       "0                                Kelly, Mr. James    male  34.5      0      0   \n",
       "1                Wilkes, Mrs. James (Ellen Needs)  female  47.0      1      0   \n",
       "2                       Myles, Mr. Thomas Francis    male  62.0      0      0   \n",
       "3                                Wirz, Mr. Albert    male  27.0      0      0   \n",
       "4    Hirvonen, Mrs. Alexander (Helga E Lindqvist)  female  22.0      1      1   \n",
       "..                                            ...     ...   ...    ...    ...   \n",
       "413                            Spector, Mr. Woolf    male   NaN      0      0   \n",
       "414                  Oliva y Ocana, Dona. Fermina  female  39.0      0      0   \n",
       "415                  Saether, Mr. Simon Sivertsen    male  38.5      0      0   \n",
       "416                           Ware, Mr. Frederick    male   NaN      0      0   \n",
       "417                      Peter, Master. Michael J    male   NaN      1      1   \n",
       "\n",
       "                 Ticket      Fare Cabin Embarked  \n",
       "0                330911    7.8292   NaN        Q  \n",
       "1                363272    7.0000   NaN        S  \n",
       "2                240276    9.6875   NaN        Q  \n",
       "3                315154    8.6625   NaN        S  \n",
       "4               3101298   12.2875   NaN        S  \n",
       "..                  ...       ...   ...      ...  \n",
       "413           A.5. 3236    8.0500   NaN        S  \n",
       "414            PC 17758  108.9000  C105        C  \n",
       "415  SOTON/O.Q. 3101262    7.2500   NaN        S  \n",
       "416              359309    8.0500   NaN        S  \n",
       "417                2668   22.3583   NaN        C  \n",
       "\n",
       "[418 rows x 12 columns]>"
      ]
     },
     "execution_count": 78,
     "metadata": {},
     "output_type": "execute_result"
    }
   ],
   "source": [
    "dataset.info"
   ]
  },
  {
   "cell_type": "code",
   "execution_count": 79,
   "id": "0d0b6cd0",
   "metadata": {},
   "outputs": [
    {
     "data": {
      "text/plain": [
       "<bound method NDFrame.describe of      PassengerId  Survived  Pclass  \\\n",
       "0            892         0       3   \n",
       "1            893         1       3   \n",
       "2            894         0       2   \n",
       "3            895         0       3   \n",
       "4            896         1       3   \n",
       "..           ...       ...     ...   \n",
       "413         1305         0       3   \n",
       "414         1306         1       1   \n",
       "415         1307         0       3   \n",
       "416         1308         0       3   \n",
       "417         1309         0       3   \n",
       "\n",
       "                                             Name     Sex   Age  SibSp  Parch  \\\n",
       "0                                Kelly, Mr. James    male  34.5      0      0   \n",
       "1                Wilkes, Mrs. James (Ellen Needs)  female  47.0      1      0   \n",
       "2                       Myles, Mr. Thomas Francis    male  62.0      0      0   \n",
       "3                                Wirz, Mr. Albert    male  27.0      0      0   \n",
       "4    Hirvonen, Mrs. Alexander (Helga E Lindqvist)  female  22.0      1      1   \n",
       "..                                            ...     ...   ...    ...    ...   \n",
       "413                            Spector, Mr. Woolf    male   NaN      0      0   \n",
       "414                  Oliva y Ocana, Dona. Fermina  female  39.0      0      0   \n",
       "415                  Saether, Mr. Simon Sivertsen    male  38.5      0      0   \n",
       "416                           Ware, Mr. Frederick    male   NaN      0      0   \n",
       "417                      Peter, Master. Michael J    male   NaN      1      1   \n",
       "\n",
       "                 Ticket      Fare Cabin Embarked  \n",
       "0                330911    7.8292   NaN        Q  \n",
       "1                363272    7.0000   NaN        S  \n",
       "2                240276    9.6875   NaN        Q  \n",
       "3                315154    8.6625   NaN        S  \n",
       "4               3101298   12.2875   NaN        S  \n",
       "..                  ...       ...   ...      ...  \n",
       "413           A.5. 3236    8.0500   NaN        S  \n",
       "414            PC 17758  108.9000  C105        C  \n",
       "415  SOTON/O.Q. 3101262    7.2500   NaN        S  \n",
       "416              359309    8.0500   NaN        S  \n",
       "417                2668   22.3583   NaN        C  \n",
       "\n",
       "[418 rows x 12 columns]>"
      ]
     },
     "execution_count": 79,
     "metadata": {},
     "output_type": "execute_result"
    }
   ],
   "source": [
    "dataset.describe"
   ]
  },
  {
   "cell_type": "markdown",
   "id": "b1de139c",
   "metadata": {},
   "source": [
    "\n",
    "\n",
    "\n",
    "\n",
    "### Handle missing data appropriately, considering imputation strategies\n",
    "\n",
    "\n"
   ]
  },
  {
   "cell_type": "code",
   "execution_count": 80,
   "id": "03d735a8",
   "metadata": {},
   "outputs": [
    {
     "name": "stdout",
     "output_type": "stream",
     "text": [
      "Missing Data:\n",
      " PassengerId      0\n",
      "Survived         0\n",
      "Pclass           0\n",
      "Name             0\n",
      "Sex              0\n",
      "Age             86\n",
      "SibSp            0\n",
      "Parch            0\n",
      "Ticket           0\n",
      "Fare             1\n",
      "Cabin          327\n",
      "Embarked         0\n",
      "dtype: int64\n"
     ]
    }
   ],
   "source": [
    "missing_data = dataset.isnull().sum()\n",
    "print(\"Missing Data:\\n\", missing_data)"
   ]
  },
  {
   "cell_type": "code",
   "execution_count": 81,
   "id": "a264f240",
   "metadata": {},
   "outputs": [],
   "source": [
    "dataset['Age'].fillna(dataset['Age'].mean(), inplace=True)"
   ]
  },
  {
   "cell_type": "code",
   "execution_count": 82,
   "id": "73a01103",
   "metadata": {},
   "outputs": [
    {
     "name": "stdout",
     "output_type": "stream",
     "text": [
      "Missing Data:\n",
      " PassengerId      0\n",
      "Survived         0\n",
      "Pclass           0\n",
      "Name             0\n",
      "Sex              0\n",
      "Age              0\n",
      "SibSp            0\n",
      "Parch            0\n",
      "Ticket           0\n",
      "Fare             1\n",
      "Cabin          327\n",
      "Embarked         0\n",
      "dtype: int64\n"
     ]
    }
   ],
   "source": [
    "missing_data = dataset.isnull().sum()\n",
    "print(\"Missing Data:\\n\", missing_data)"
   ]
  },
  {
   "cell_type": "code",
   "execution_count": 83,
   "id": "6dcb4285",
   "metadata": {},
   "outputs": [],
   "source": [
    "dataset.drop('Cabin', axis=1, inplace=True)"
   ]
  },
  {
   "cell_type": "code",
   "execution_count": 84,
   "id": "bc332405",
   "metadata": {},
   "outputs": [],
   "source": [
    "dataset['Fare'].fillna(dataset['Fare'].median(), inplace=True)"
   ]
  },
  {
   "cell_type": "code",
   "execution_count": 85,
   "id": "ebd0b543",
   "metadata": {},
   "outputs": [
    {
     "name": "stdout",
     "output_type": "stream",
     "text": [
      "Missing Data:\n",
      " PassengerId    0\n",
      "Survived       0\n",
      "Pclass         0\n",
      "Name           0\n",
      "Sex            0\n",
      "Age            0\n",
      "SibSp          0\n",
      "Parch          0\n",
      "Ticket         0\n",
      "Fare           0\n",
      "Embarked       0\n",
      "dtype: int64\n"
     ]
    }
   ],
   "source": [
    "missing_data = dataset.isnull().sum()\n",
    "print(\"Missing Data:\\n\", missing_data)"
   ]
  },
  {
   "cell_type": "markdown",
   "id": "c521f572",
   "metadata": {},
   "source": [
    "\n",
    "\n",
    "\n",
    "### Create new features or extract useful information from existing features\n",
    "\n",
    "\n"
   ]
  },
  {
   "cell_type": "code",
   "execution_count": 86,
   "id": "9f77aa40",
   "metadata": {},
   "outputs": [
    {
     "name": "stdout",
     "output_type": "stream",
     "text": [
      "   SibSp  Parch  family_size Survival\n",
      "0      0      0            0     Dead\n",
      "1      1      0            1    Alive\n",
      "2      0      0            0     Dead\n",
      "3      0      0            0     Dead\n",
      "4      1      1            2    Alive\n"
     ]
    }
   ],
   "source": [
    "dataset['family_size'] = dataset['SibSp'] + dataset['Parch']\n",
    "dataset['Survival'] = np.where(dataset['family_size'] > 0, 'Alive', 'Dead')\n",
    "print(dataset[['SibSp', 'Parch', 'family_size', 'Survival']].head())"
   ]
  },
  {
   "cell_type": "code",
   "execution_count": 87,
   "id": "5d0fcac4",
   "metadata": {},
   "outputs": [
    {
     "name": "stdout",
     "output_type": "stream",
     "text": [
      "['male' 'female']\n"
     ]
    }
   ],
   "source": [
    "print(dataset['Sex'].unique())"
   ]
  },
  {
   "cell_type": "markdown",
   "id": "7c07d3f5",
   "metadata": {},
   "source": [
    "\n",
    "\n",
    "\n",
    "### Conduct advanced grouping and aggregation to analyze survival rates based on multiple factors simultaneously\n",
    "\n",
    "\n"
   ]
  },
  {
   "cell_type": "code",
   "execution_count": 88,
   "id": "5c8898dc",
   "metadata": {},
   "outputs": [
    {
     "name": "stdout",
     "output_type": "stream",
     "text": [
      "Empty DataFrame\n",
      "Columns: [PassengerId, Survived, Pclass, Name, Sex, Age, SibSp, Parch, Ticket, Fare, Embarked, family_size, Survival]\n",
      "Index: []\n"
     ]
    }
   ],
   "source": [
    "male_survivors = dataset[(dataset['Sex'] == 'male') & (dataset['Survived'] == 1)]\n",
    "print(male_survivors)"
   ]
  },
  {
   "cell_type": "code",
   "execution_count": 89,
   "id": "72eb3d89",
   "metadata": {},
   "outputs": [
    {
     "name": "stdout",
     "output_type": "stream",
     "text": [
      "Advanced Grouped Data:\n",
      "     Pclass     Sex Embarked  FamilySize  PassengerCount  SurvivalRate\n",
      "0        1  female        C           0              12           1.0\n",
      "1        1  female        C           1              11           1.0\n",
      "2        1  female        C           2               4           1.0\n",
      "3        1  female        C           4               1           1.0\n",
      "4        1  female        Q           1               1           1.0\n",
      "5        1  female        S           0               6           1.0\n",
      "6        1  female        S           1               8           1.0\n",
      "7        1  female        S           2               4           1.0\n",
      "8        1  female        S           3               1           1.0\n",
      "9        1  female        S           5               2           1.0\n",
      "10       1    male        C           0              12           0.0\n",
      "11       1    male        C           1              10           0.0\n",
      "12       1    male        C           2               4           0.0\n",
      "13       1    male        C           4               2           0.0\n",
      "14       1    male        S           0              21           0.0\n",
      "15       1    male        S           1               4           0.0\n",
      "16       1    male        S           2               3           0.0\n",
      "17       1    male        S           3               1           0.0\n",
      "18       2  female        C           1               2           1.0\n",
      "19       2  female        C           2               1           1.0\n",
      "20       2  female        C           3               1           1.0\n",
      "21       2  female        S           0              10           1.0\n",
      "22       2  female        S           1               5           1.0\n",
      "23       2  female        S           2               6           1.0\n",
      "24       2  female        S           3               5           1.0\n",
      "25       2    male        C           0               7           0.0\n",
      "26       2    male        Q           0               4           0.0\n",
      "27       2    male        S           0              33           0.0\n",
      "28       2    male        S           1              11           0.0\n",
      "29       2    male        S           2               7           0.0\n",
      "30       2    male        S           3               1           0.0\n",
      "31       3  female        C           0               3           1.0\n",
      "32       3  female        C           1               1           1.0\n",
      "33       3  female        C           2               4           1.0\n",
      "34       3  female        Q           0              21           1.0\n",
      "35       3  female        Q           1               1           1.0\n",
      "36       3  female        Q           2               1           1.0\n",
      "37       3  female        S           0              16           1.0\n",
      "38       3  female        S           1               7           1.0\n",
      "39       3  female        S           2              10           1.0\n",
      "40       3  female        S           3               3           1.0\n",
      "41       3  female        S           4               1           1.0\n",
      "42       3  female        S           6               1           1.0\n",
      "43       3  female        S           7               1           1.0\n",
      "44       3  female        S          10               2           1.0\n",
      "45       3    male        C           0              16           0.0\n",
      "46       3    male        C           1               5           0.0\n",
      "47       3    male        C           2               6           0.0\n",
      "48       3    male        Q           0              16           0.0\n",
      "49       3    male        Q           1               1           0.0\n",
      "50       3    male        Q           5               1           0.0\n",
      "51       3    male        S           0              76           0.0\n",
      "52       3    male        S           1               7           0.0\n",
      "53       3    male        S           2               7           0.0\n",
      "54       3    male        S           3               2           0.0\n",
      "55       3    male        S           4               3           0.0\n",
      "56       3    male        S           6               3           0.0\n",
      "57       3    male        S           7               1           0.0\n",
      "58       3    male        S          10               2           0.0\n"
     ]
    }
   ],
   "source": [
    "grouped_data_advanced = dataset.groupby(['Pclass', 'Sex', 'Embarked', 'family_size']).agg({\n",
    "    'Survived': ['count', 'mean']\n",
    "}).reset_index()\n",
    "grouped_data_advanced.columns = ['Pclass', 'Sex', 'Embarked', 'FamilySize', 'PassengerCount', 'SurvivalRate']\n",
    "print(\"Advanced Grouped Data:\\n\", grouped_data_advanced)"
   ]
  },
  {
   "cell_type": "code",
   "execution_count": 90,
   "id": "2659d9cf",
   "metadata": {},
   "outputs": [
    {
     "name": "stdout",
     "output_type": "stream",
     "text": [
      "Grouped Data:\n",
      "         Sex  Age_Group  Passenger_Count  Survival_Rate\n",
      "0    female       0.17                1            1.0\n",
      "1    female       0.92                1            1.0\n",
      "2    female       1.00                3            1.0\n",
      "3    female       2.00                1            1.0\n",
      "4    female       3.00                1            1.0\n",
      "..      ...        ...              ...            ...\n",
      "112    male      61.00                2            0.0\n",
      "113    male      62.00                1            0.0\n",
      "114    male      63.00                1            0.0\n",
      "115    male      64.00                1            0.0\n",
      "116    male      67.00                1            0.0\n",
      "\n",
      "[117 rows x 4 columns]\n"
     ]
    }
   ],
   "source": [
    "grouped_sex_age_data = dataset.groupby(['Sex', 'Age'])['Survived'].agg(['count', 'mean']).reset_index()\n",
    "grouped_sex_age_data.columns = ['Sex', 'Age_Group', 'Passenger_Count', 'Survival_Rate']\n",
    "print(\"Grouped Data:\\n\", grouped_sex_age_data)\n"
   ]
  },
  {
   "cell_type": "markdown",
   "id": "5d250d0f",
   "metadata": {},
   "source": [
    "\n",
    "\n",
    "\n",
    "### Visualize the results using Matplotlib or Seaborn for effective communication.\n",
    "\n",
    "\n"
   ]
  },
  {
   "cell_type": "code",
   "execution_count": 91,
   "id": "a6438a89",
   "metadata": {},
   "outputs": [
    {
     "name": "stderr",
     "output_type": "stream",
     "text": [
      "/tmp/ipykernel_84192/3130110970.py:3: FutureWarning: \n",
      "\n",
      "The `ci` parameter is deprecated. Use `errorbar=None` for the same effect.\n",
      "\n",
      "  sns.barplot(x='Sex', y='Survived', data=dataset, ci=None)\n"
     ]
    },
    {
     "data": {
      "image/png": "[encoded data removed]",
      "text/plain": [
       "<Figure size 800x600 with 1 Axes>"
      ]
     },
     "metadata": {},
     "output_type": "display_data"
    }
   ],
   "source": [
    "plt.figure(figsize=(8, 6))\n",
    "sns.barplot(x='Sex', y='Survived', data=dataset, ci=None)\n",
    "plt.title('Survival Rates by Sex')\n",
    "plt.xlabel('Sex')\n",
    "plt.ylabel('Survival Rate')\n",
    "plt.show()"
   ]
  },
  {
   "cell_type": "code",
   "execution_count": 92,
   "id": "36db9781",
   "metadata": {},
   "outputs": [
    {
     "name": "stdout",
     "output_type": "stream",
     "text": [
      "Grouped Data:\n",
      "   Age_Group  Passenger_Count  Survival_Rate\n",
      "0      0-18               41       0.414634\n",
      "1     19-35              267       0.340824\n",
      "2     36-50               74       0.378378\n",
      "3    51-100               36       0.444444\n"
     ]
    }
   ],
   "source": [
    "age_bins = [0, 18, 35, 50, 100]\n",
    "age_labels = ['0-18', '19-35', '36-50', '51-100']\n",
    "dataset['Age_Group'] = pd.cut(dataset['Age'], bins=age_bins, labels=age_labels, right=False)\n",
    "grouped_age_data = dataset.groupby('Age_Group')['Survived'].agg(['count', 'mean']).reset_index()\n",
    "grouped_age_data.columns = ['Age_Group', 'Passenger_Count', 'Survival_Rate']\n",
    "print(\"Grouped Data:\\n\", grouped_age_data)\n"
   ]
  },
  {
   "cell_type": "code",
   "execution_count": 93,
   "id": "3ceb9bee",
   "metadata": {},
   "outputs": [
    {
     "data": {
      "image/png": "[encoded data removed]",
      "text/plain": [
       "<Figure size 1000x600 with 1 Axes>"
      ]
     },
     "metadata": {},
     "output_type": "display_data"
    }
   ],
   "source": [
    "bins = [0, 10, 20, 30, 40, 50, 60, 70, 80, 90]\n",
    "labels = ['0-10', '11-20', '21-30', '31-40', '41-50', '51-60', '61-70', '71-80', '81-90']\n",
    "dataset['AgeGroup'] = pd.cut(dataset['Age'], bins=bins, labels=labels, right=False)\n",
    "grouped_age_data = dataset.groupby('AgeGroup')['Survived'].mean().reset_index()\n",
    "plt.figure(figsize=(10, 6))\n",
    "sns.barplot(x='AgeGroup', y='Survived', data=grouped_age_data, palette='viridis')\n",
    "plt.title('Survival Rates by Age Group')\n",
    "plt.xlabel('Age Group')\n",
    "plt.ylabel('Survival Rate')\n",
    "plt.show()"
   ]
  }
 ],
 "metadata": {
  "kernelspec": {
   "display_name": "Python 3 (ipykernel)",
   "language": "python",
   "name": "python3"
  },
  "language_info": {
   "codemirror_mode": {
    "name": "ipython",
    "version": 3
   },
   "file_extension": ".py",
   "mimetype": "text/x-python",
   "name": "python",
   "nbconvert_exporter": "python",
   "pygments_lexer": "ipython3",
   "version": "3.11.5"
  }
 },
 "nbformat": 4,
 "nbformat_minor": 5
}
