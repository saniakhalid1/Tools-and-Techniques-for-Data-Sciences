{
 "cells": [
  {
   "cell_type": "markdown",
   "id": "48147901",
   "metadata": {},
   "source": [
    "### Assignment-04 (List)\n",
    "- Change the notebook name with your name and Roll Number.\n",
    "- Try this as your own, no chatgpt (it's for your learning)\n",
    "- after completing the assignment, submit this book on google class room."
   ]
  },
  {
   "cell_type": "markdown",
   "id": "4a0551ca",
   "metadata": {},
   "source": [
    "Create an empty list and print it.\n"
   ]
  },
  {
   "cell_type": "code",
   "execution_count": 1,
   "id": "d2923b71",
   "metadata": {},
   "outputs": [
    {
     "name": "stdout",
     "output_type": "stream",
     "text": [
      "[]\n"
     ]
    }
   ],
   "source": [
    "empty_list = []\n",
    "print(empty_list)"
   ]
  },
  {
   "cell_type": "markdown",
   "id": "fa6b638e",
   "metadata": {},
   "source": [
    "Create a list of your favorite colors and print it."
   ]
  },
  {
   "cell_type": "code",
   "execution_count": 2,
   "id": "c549875c",
   "metadata": {},
   "outputs": [
    {
     "name": "stdout",
     "output_type": "stream",
     "text": [
      "['Red', 'Black', 'Blue']\n"
     ]
    }
   ],
   "source": [
    "favrt_list = ['Red', 'Black', 'Blue']\n",
    "print(favrt_list)"
   ]
  },
  {
   "cell_type": "markdown",
   "id": "4a1371d4",
   "metadata": {},
   "source": [
    "Create a list that includes a mix of data types (integers, strings, floats).\n"
   ]
  },
  {
   "cell_type": "code",
   "execution_count": 3,
   "id": "dfc878e2",
   "metadata": {},
   "outputs": [
    {
     "name": "stdout",
     "output_type": "stream",
     "text": [
      "[39, 'Black', 6.5]\n"
     ]
    }
   ],
   "source": [
    "Mixed_list = [39, 'Black', 6.5]\n",
    "print(Mixed_list)"
   ]
  },
  {
   "cell_type": "markdown",
   "id": "2916cde7",
   "metadata": {},
   "source": [
    "Access the first element of a list.\n"
   ]
  },
  {
   "cell_type": "code",
   "execution_count": 4,
   "id": "a0a7b3d2",
   "metadata": {},
   "outputs": [
    {
     "name": "stdout",
     "output_type": "stream",
     "text": [
      "39\n"
     ]
    }
   ],
   "source": [
    "Mixed_list = [39, 'Black', 6.5]\n",
    "print(Mixed_list[0])"
   ]
  },
  {
   "cell_type": "markdown",
   "id": "13b39ea7",
   "metadata": {},
   "source": [
    "Access the last element of a list."
   ]
  },
  {
   "cell_type": "code",
   "execution_count": 5,
   "id": "4f8cf5da",
   "metadata": {},
   "outputs": [
    {
     "name": "stdout",
     "output_type": "stream",
     "text": [
      "6.5\n"
     ]
    }
   ],
   "source": [
    "Mixed_list = [39, 'Black', 6.5]\n",
    "print(Mixed_list[-1])"
   ]
  },
  {
   "cell_type": "markdown",
   "id": "ef7e0f8d",
   "metadata": {},
   "source": [
    " Access the second and third elements of a list.\n"
   ]
  },
  {
   "cell_type": "code",
   "execution_count": 7,
   "id": "e215ceed",
   "metadata": {},
   "outputs": [
    {
     "name": "stdout",
     "output_type": "stream",
     "text": [
      "['Black', 'Mustard']\n"
     ]
    }
   ],
   "source": [
    "Mixed_list = [39, 'Black','Mustard', 'Green', 6.5]\n",
    "print(Mixed_list[1:3])"
   ]
  },
  {
   "cell_type": "markdown",
   "id": "16ef79f1",
   "metadata": {},
   "source": [
    "\n",
    "Slice a list to extract the first three elements.\n"
   ]
  },
  {
   "cell_type": "code",
   "execution_count": 10,
   "id": "86d94d3c",
   "metadata": {},
   "outputs": [
    {
     "name": "stdout",
     "output_type": "stream",
     "text": [
      "[39, 'Black', 'Mustard']\n"
     ]
    }
   ],
   "source": [
    "Mixed_list = [39, 'Black','Mustard', 'Green', 6.5]\n",
    "print(Mixed_list[:3])"
   ]
  },
  {
   "cell_type": "markdown",
   "id": "717afad5",
   "metadata": {},
   "source": [
    "Slice a list to extract the last three elements.\n"
   ]
  },
  {
   "cell_type": "code",
   "execution_count": 11,
   "id": "2f79b771",
   "metadata": {},
   "outputs": [
    {
     "name": "stdout",
     "output_type": "stream",
     "text": [
      "['Mustard', 'Green', 6.5]\n"
     ]
    }
   ],
   "source": [
    "Mixed_list = [39, 'Black','Mustard', 'Green', 6.5]\n",
    "print(Mixed_list[-3:])"
   ]
  },
  {
   "cell_type": "markdown",
   "id": "da7f582e",
   "metadata": {},
   "source": [
    "Slice a list to get every second element.\n"
   ]
  },
  {
   "cell_type": "code",
   "execution_count": 12,
   "id": "4edeea3d",
   "metadata": {},
   "outputs": [
    {
     "name": "stdout",
     "output_type": "stream",
     "text": [
      "[39, 'Mustard', 6.5]\n"
     ]
    }
   ],
   "source": [
    "Mixed_list = [39, 'Black','Mustard', 'Green', 6.5]\n",
    "print(Mixed_list[::2])"
   ]
  },
  {
   "cell_type": "markdown",
   "id": "011bb9f7",
   "metadata": {},
   "source": [
    "Reverse a list using slicing."
   ]
  },
  {
   "cell_type": "code",
   "execution_count": 13,
   "id": "c11e7110",
   "metadata": {},
   "outputs": [
    {
     "name": "stdout",
     "output_type": "stream",
     "text": [
      "[6.5, 'Green', 'Mustard', 'Black', 39]\n"
     ]
    }
   ],
   "source": [
    "Mixed_list = [39, 'Black','Mustard', 'Green', 6.5]\n",
    "print(Mixed_list[::-1])"
   ]
  },
  {
   "cell_type": "markdown",
   "id": "5f45b7a8",
   "metadata": {},
   "source": [
    " Create two lists and concatenate them.\n"
   ]
  },
  {
   "cell_type": "code",
   "execution_count": 14,
   "id": "2c210b01",
   "metadata": {},
   "outputs": [
    {
     "name": "stdout",
     "output_type": "stream",
     "text": [
      "[39, 'Black', 'Mustard', 'Green', 6.5]\n"
     ]
    }
   ],
   "source": [
    "Mixed_list1 = [39, 'Black','Mustard']\n",
    "Mixed_list2 = ['Green', 6.5]\n",
    "print(Mixed_list1 + Mixed_list2)"
   ]
  },
  {
   "cell_type": "markdown",
   "id": "a6c019d7",
   "metadata": {},
   "source": [
    "\n",
    "Repeat a list multiple times using the repetition operator"
   ]
  },
  {
   "cell_type": "code",
   "execution_count": 15,
   "id": "b40d10b9",
   "metadata": {},
   "outputs": [
    {
     "name": "stdout",
     "output_type": "stream",
     "text": [
      "[1, 2, 3, 1, 2, 3, 1, 2, 3]\n"
     ]
    }
   ],
   "source": [
    "LIST = [1, 2, 3]\n",
    "repeated_list = LIST * 3\n",
    "print(repeated_list)\n"
   ]
  },
  {
   "cell_type": "markdown",
   "id": "0fdf9b21",
   "metadata": {},
   "source": [
    "Add a new element to the end of a list using the append() method.\n"
   ]
  },
  {
   "cell_type": "code",
   "execution_count": 19,
   "id": "86906fc9",
   "metadata": {},
   "outputs": [
    {
     "name": "stdout",
     "output_type": "stream",
     "text": [
      "[39, 'Black', 'Mustard', 'Green', 6.5, 'Hey SANIA KHALID']\n"
     ]
    }
   ],
   "source": [
    "\n",
    "Mixed_list = [39, 'Black', 'Mustard', 'Green', 6.5]\n",
    "Mixed_list.append(\"Hey SANIA KHALID\")\n",
    "print(Mixed_list)\n"
   ]
  },
  {
   "cell_type": "markdown",
   "id": "1812e852",
   "metadata": {},
   "source": [
    "\n",
    "Extend a list with elements from another list using the extend() method.\n"
   ]
  },
  {
   "cell_type": "code",
   "execution_count": 20,
   "id": "375a8ac2",
   "metadata": {},
   "outputs": [
    {
     "name": "stdout",
     "output_type": "stream",
     "text": [
      "[39, 'Black', 'Mustard', 'Green', 6.5]\n"
     ]
    }
   ],
   "source": [
    "Mixed_list1 = [39, 'Black','Mustard']\n",
    "Mixed_list2 = ['Green', 6.5]\n",
    "Mixed_list1.extend(Mixed_list2)\n",
    "print(Mixed_list1 )"
   ]
  },
  {
   "cell_type": "markdown",
   "id": "b4285741",
   "metadata": {},
   "source": [
    "Insert an element at a specific index in a list using the insert() method."
   ]
  },
  {
   "cell_type": "code",
   "execution_count": 21,
   "id": "5e5b2a93",
   "metadata": {},
   "outputs": [
    {
     "name": "stdout",
     "output_type": "stream",
     "text": [
      "[1, 2, 3, 'Sania', 5, 6]\n"
     ]
    }
   ],
   "source": [
    "my_list = [1, 2, 3, 5, 6]\n",
    "\n",
    "my_list.insert(3, 'Sania')\n",
    "\n",
    "print(my_list)\n"
   ]
  },
  {
   "cell_type": "markdown",
   "id": "5926ef7b",
   "metadata": {},
   "source": [
    " Remove the last element from a list using the pop() method.\n",
    "\n"
   ]
  },
  {
   "cell_type": "code",
   "execution_count": 22,
   "id": "4e3c8c6d",
   "metadata": {},
   "outputs": [
    {
     "name": "stdout",
     "output_type": "stream",
     "text": [
      "[1, 2, 3, 5]\n"
     ]
    }
   ],
   "source": [
    "my_list = [1, 2, 3, 5, 6]\n",
    "\n",
    "my_list.pop()\n",
    "\n",
    "print(my_list)"
   ]
  },
  {
   "cell_type": "markdown",
   "id": "34faaad1",
   "metadata": {},
   "source": [
    "Remove a specific element from a list using the remove() method.\n"
   ]
  },
  {
   "cell_type": "code",
   "execution_count": 26,
   "id": "2706c63d",
   "metadata": {},
   "outputs": [
    {
     "name": "stdout",
     "output_type": "stream",
     "text": [
      "[1, 2, 5, 6]\n"
     ]
    }
   ],
   "source": [
    "my_list = [1, 2, 'Sania', 5, 6]\n",
    "\n",
    "my_list.remove('Sania')\n",
    "\n",
    "print(my_list)"
   ]
  },
  {
   "cell_type": "markdown",
   "id": "b066a57c",
   "metadata": {},
   "source": [
    "Clear all elements from a list.\n"
   ]
  },
  {
   "cell_type": "code",
   "execution_count": 29,
   "id": "a4cb30f8",
   "metadata": {},
   "outputs": [
    {
     "name": "stdout",
     "output_type": "stream",
     "text": [
      "Before [1, 2, 3, 4, 5]\n",
      "after  []\n"
     ]
    }
   ],
   "source": [
    "my_list = [1, 2, 3, 4, 5]\n",
    "print(\"Before\", my_list)\n",
    "my_list.clear()\n",
    "print(\"after \",my_list)\n"
   ]
  },
  {
   "cell_type": "markdown",
   "id": "f9d4754d",
   "metadata": {},
   "source": [
    "Delete an element at a specific index using the del statement."
   ]
  },
  {
   "cell_type": "code",
   "execution_count": 35,
   "id": "adbc06c2",
   "metadata": {},
   "outputs": [
    {
     "name": "stdout",
     "output_type": "stream",
     "text": [
      "Before: [1, 'SANIA', 3, 4, 5]\n",
      "After: [1, 3, 4, 5]\n"
     ]
    }
   ],
   "source": [
    "my_list = [1, 'SANIA', 3, 4, 5]\n",
    "print(\"Before:\", my_list)\n",
    "del my_list[1]\n",
    "print(\"After:\", my_list)\n",
    "\n"
   ]
  },
  {
   "cell_type": "markdown",
   "id": "6fda5133",
   "metadata": {},
   "source": [
    "Convert a string to a list of characters and vice-versa."
   ]
  },
  {
   "cell_type": "code",
   "execution_count": 37,
   "id": "7c9fe1dc",
   "metadata": {},
   "outputs": [
    {
     "name": "stdout",
     "output_type": "stream",
     "text": [
      "String To List\n",
      "['S', 'a', 'n', 'i', 'a', ' ', 'K', 'h', 'a', 'l', 'i', 'd']\n",
      "List To String\n",
      "Sania Khalid\n"
     ]
    }
   ],
   "source": [
    "print(\"String To List\")\n",
    "my_string = \"Sania Khalid\"\n",
    "char_list = list(my_string)\n",
    "print(char_list)\n",
    "print(\"List To String\")\n",
    "new_string = ''.join(char_list)\n",
    "print(new_string)\n"
   ]
  },
  {
   "cell_type": "code",
   "execution_count": null,
   "id": "617e14c5",
   "metadata": {},
   "outputs": [],
   "source": [
    "Sort a List in ascending order using the sort() method.\n"
   ]
  },
  {
   "cell_type": "code",
   "execution_count": 41,
   "id": "749b040c",
   "metadata": {},
   "outputs": [
    {
     "name": "stdout",
     "output_type": "stream",
     "text": [
      "['Here', 'Khalid', 'Many', 'Sania']\n"
     ]
    }
   ],
   "source": [
    "List = ['Sania', 'Khalid','Here', 'Many']\n",
    "List.sort()\n",
    "print(List)"
   ]
  },
  {
   "cell_type": "code",
   "execution_count": null,
   "id": "8a1c1820",
   "metadata": {},
   "outputs": [],
   "source": [
    "Sort a list in descending order using the sort() method."
   ]
  },
  {
   "cell_type": "code",
   "execution_count": 46,
   "id": "9d3b86b3",
   "metadata": {},
   "outputs": [
    {
     "name": "stdout",
     "output_type": "stream",
     "text": [
      "Original list: [5, 2, 8, 1, 7]\n",
      "Sorted list: [8, 7, 5, 2, 1]\n"
     ]
    }
   ],
   "source": [
    "numbers = [5, 2, 8, 1, 7]\n",
    "sorted_numbers = sorted(numbers, reverse=True)\n",
    "print(\"Original list:\", numbers)\n",
    "print(\"Sorted list:\", sorted_numbers)\n"
   ]
  },
  {
   "cell_type": "markdown",
   "id": "04c5419a",
   "metadata": {},
   "source": [
    "Reverse the order of a list using the reverse() method.\n"
   ]
  },
  {
   "cell_type": "code",
   "execution_count": 47,
   "id": "f0eac28f",
   "metadata": {},
   "outputs": [
    {
     "name": "stdout",
     "output_type": "stream",
     "text": [
      "Original list: [1, 2, 3, 4, 5]\n",
      "Reversed list: [5, 4, 3, 2, 1]\n"
     ]
    }
   ],
   "source": [
    "my_list = [1, 2, 3, 4, 5]\n",
    "reversed_list = my_list[::-1]\n",
    "print(\"Original list:\", my_list)\n",
    "print(\"Reversed list:\", reversed_list)\n"
   ]
  },
  {
   "cell_type": "markdown",
   "id": "ea816319",
   "metadata": {},
   "source": [
    "Check if an element is present in a list using the in operator.\n"
   ]
  },
  {
   "cell_type": "code",
   "execution_count": 48,
   "id": "db2e8041",
   "metadata": {},
   "outputs": [
    {
     "name": "stdout",
     "output_type": "stream",
     "text": [
      "3 is present in the list.\n"
     ]
    }
   ],
   "source": [
    "myList = [1, 2, 3, 4, 5]\n",
    "element_to_check = 3\n",
    "\n",
    "if element_to_check in myList:\n",
    "    print(f\"{element_to_check} is present in the list.\")\n",
    "else:\n",
    "    print(f\"{element_to_check} is not present in the list.\")\n"
   ]
  },
  {
   "cell_type": "markdown",
   "id": "f17e9e0a",
   "metadata": {},
   "source": [
    "Compare two lists to see if they are equal in both value and identity.\n"
   ]
  },
  {
   "cell_type": "code",
   "execution_count": 49,
   "id": "cc5763b1",
   "metadata": {},
   "outputs": [
    {
     "name": "stdout",
     "output_type": "stream",
     "text": [
      "The lists are equal in value.\n",
      "The lists are not identical in identity.\n"
     ]
    }
   ],
   "source": [
    "# Create two lists with the same elements\n",
    "list1 = [1, 2, 3]\n",
    "list2 = [1, 2, 3]\n",
    "if list1 == list2:\n",
    "    print(\"The lists are equal in value.\")\n",
    "else:\n",
    "    print(\"The lists are not equal in value.\")\n",
    "if list1 is list2:\n",
    "    print(\"The lists are identical in identity.\")\n",
    "else:\n",
    "    print(\"The lists are not identical in identity.\")\n"
   ]
  },
  {
   "cell_type": "markdown",
   "id": "19d815f3",
   "metadata": {},
   "source": [
    "Create a shallow copy of a list and modify one of the lists to observe the effects on the other.\n"
   ]
  },
  {
   "cell_type": "code",
   "execution_count": 53,
   "id": "92979606",
   "metadata": {},
   "outputs": [
    {
     "name": "stdout",
     "output_type": "stream",
     "text": [
      "Original list: [1, 'X', 4]\n",
      "Shallow copy: [1, 2, 4]\n"
     ]
    }
   ],
   "source": [
    "original_list = [1, 2, 4]\n",
    "shallow_copy = original_list.copy()\n",
    "original_list[1] = 'X'\n",
    "print(\"Original list:\", original_list)\n",
    "print(\"Shallow copy:\", shallow_copy)"
   ]
  },
  {
   "cell_type": "markdown",
   "id": "6c8f1702",
   "metadata": {},
   "source": [
    "Create a deep copy of a nested list and modify one of the lists to observe the effects on the other."
   ]
  },
  {
   "cell_type": "code",
   "execution_count": 55,
   "id": "87a8af6d",
   "metadata": {},
   "outputs": [
    {
     "name": "stdout",
     "output_type": "stream",
     "text": [
      "Original list: [1, 'X', 4]\n",
      "Deep copy: [1, 2, 4]\n"
     ]
    }
   ],
   "source": [
    "original_list = [1, 2, 4]\n",
    "deep_copy = [item if not isinstance(item, list) else item[:] for item in original_list]\n",
    "original_list[1] = 'X'\n",
    "print(\"Original list:\", original_list)\n",
    "print(\"Deep copy:\", deep_copy)\n"
   ]
  },
  {
   "cell_type": "markdown",
   "id": "c52154a0",
   "metadata": {},
   "source": [
    "Pickle and Unpickle a list and display its content."
   ]
  },
  {
   "cell_type": "code",
   "execution_count": 59,
   "id": "9415e114",
   "metadata": {},
   "outputs": [
    {
     "name": "stdout",
     "output_type": "stream",
     "text": [
      "Original list: [1, 'abc', 3.14, [4, 5]]\n",
      "Unpickled list: [1, 'abc', 3.14, [4, 5]]\n"
     ]
    }
   ],
   "source": [
    "import pickle\n",
    "\n",
    "# Create a list\n",
    "my_list = [1, 'abc', 3.14, [4, 5]]\n",
    "\n",
    "\n",
    "pickled_data = pickle.dumps(my_list)\n",
    "\n",
    "\n",
    "unpickled_list = pickle.loads(pickled_data)\n",
    "\n",
    "print(\"Original list:\", my_list)\n",
    "print(\"Unpickled list:\", unpickled_list)\n"
   ]
  },
  {
   "cell_type": "code",
   "execution_count": null,
   "id": "63935987",
   "metadata": {},
   "outputs": [],
   "source": []
  }
 ],
 "metadata": {
  "kernelspec": {
   "display_name": "Python 3 (ipykernel)",
   "language": "python",
   "name": "python3"
  },
  "language_info": {
   "codemirror_mode": {
    "name": "ipython",
    "version": 3
   },
   "file_extension": ".py",
   "mimetype": "text/x-python",
   "name": "python",
   "nbconvert_exporter": "python",
   "pygments_lexer": "ipython3",
   "version": "3.11.5"
  }
 },
 "nbformat": 4,
 "nbformat_minor": 5
}
