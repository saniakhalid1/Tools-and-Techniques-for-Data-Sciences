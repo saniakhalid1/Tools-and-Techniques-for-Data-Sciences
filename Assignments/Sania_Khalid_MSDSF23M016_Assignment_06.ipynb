{
 "cells": [
  {
   "cell_type": "markdown",
   "id": "292d70c6",
   "metadata": {},
   "source": [
    "### Assignment-06 (Functions)\n",
    "- Change the notebook name with your name and Roll Number.\n",
    "- Try this as your own, no chatgpt (it's for your learning)\n",
    "- after completing the assignment, submit this book on google class room."
   ]
  },
  {
   "cell_type": "markdown",
   "id": "a78a8d1f",
   "metadata": {},
   "source": [
    "Write a function named add_numbers that takes two parameters and returns their sum."
   ]
  },
  {
   "cell_type": "code",
   "execution_count": 3,
   "id": "ecc43aae",
   "metadata": {},
   "outputs": [
    {
     "name": "stdout",
     "output_type": "stream",
     "text": [
      "Sum is:  8\n"
     ]
    }
   ],
   "source": [
    "def add_numbers(a,b):\n",
    "    result = a + b\n",
    "    return result\n",
    "\n",
    "sum_result = add_numbers(3,5)\n",
    "print(\"Sum is: \", sum_result)"
   ]
  },
  {
   "cell_type": "markdown",
   "id": "b8557bc1",
   "metadata": {},
   "source": [
    "Define a function calculate_area to compute the area of a rectangle given its length and width."
   ]
  },
  {
   "cell_type": "code",
   "execution_count": 4,
   "id": "5da1bce6",
   "metadata": {},
   "outputs": [
    {
     "name": "stdout",
     "output_type": "stream",
     "text": [
      "Area of rectangle is:  35\n"
     ]
    }
   ],
   "source": [
    "def calculate_area(length, width):\n",
    "    area = length * width\n",
    "    return area\n",
    "\n",
    "area = calculate_area(5,7)\n",
    "print(\"Area of rectangle is: \", area)"
   ]
  },
  {
   "cell_type": "markdown",
   "id": "ced07c44",
   "metadata": {},
   "source": [
    "Add a docstring to the calculate_area function explaining its purpose."
   ]
  },
  {
   "cell_type": "code",
   "execution_count": null,
   "id": "a5a19740",
   "metadata": {},
   "outputs": [],
   "source": [
    "def calculate_area(length, width):\n",
    "    \"\"\"\n",
    "    Calculate the area of a rectangle.\n",
    "\n",
    "    Parameters:\n",
    "    - length (float): Length of the rectangle.\n",
    "    - width (float): Width of the rectangle.\n",
    "\n",
    "    Returns:\n",
    "    - float: Area of the rectangle.\n",
    "\n",
    "    Example:\n",
    "    >>> calculate_area(5.0, 3.0)\n",
    "    15.0\n",
    "    \"\"\"\n",
    "    area = length * width\n",
    "    return area\n",
    "\n",
    "area = calculate_area(5,7)\n",
    "print(\"Area of rectangle is: \", area)"
   ]
  },
  {
   "cell_type": "markdown",
   "id": "eaa57b3d",
   "metadata": {},
   "source": [
    "Create a function print_greeting that takes a name as an argument and prints a personalized greeting.\n"
   ]
  },
  {
   "cell_type": "code",
   "execution_count": 3,
   "id": "134dff75",
   "metadata": {},
   "outputs": [
    {
     "name": "stdout",
     "output_type": "stream",
     "text": [
      "Hello, Sania!\n"
     ]
    }
   ],
   "source": [
    "def print_greeting(name):\n",
    "    print(f\"Hello, {name}!\")\n",
    "\n",
    "print_greeting(\"Sania\")"
   ]
  },
  {
   "cell_type": "markdown",
   "id": "a9226488",
   "metadata": {},
   "source": [
    "Write a function is_prime that checks if a given number is prime.\n"
   ]
  },
  {
   "cell_type": "code",
   "execution_count": 5,
   "id": "787f0b36",
   "metadata": {},
   "outputs": [
    {
     "name": "stdout",
     "output_type": "stream",
     "text": [
      "It's prime\n"
     ]
    }
   ],
   "source": [
    "def is_prime(num):\n",
    "    if num < 2:\n",
    "        return False\n",
    "    for i in range(2, int(num**0.5) + 1):\n",
    "        if num % i == 0:\n",
    "            return False\n",
    "    return True\n",
    "\n",
    "if is_prime(5):\n",
    "    print(\"It's prime\")\n",
    "else:\n",
    "    print(\"Not Prime\")\n"
   ]
  },
  {
   "cell_type": "markdown",
   "id": "9b526fa5",
   "metadata": {},
   "source": [
    "Implement a function factorial to calculate the factorial of a given number.\n"
   ]
  },
  {
   "cell_type": "code",
   "execution_count": 6,
   "id": "800a23c7",
   "metadata": {},
   "outputs": [
    {
     "name": "stdout",
     "output_type": "stream",
     "text": [
      "120\n"
     ]
    }
   ],
   "source": [
    "def factorial(n):\n",
    "    if n == 0 or n == 1:\n",
    "        return 1\n",
    "    else:\n",
    "        return n * factorial(n - 1)\n",
    "\n",
    "print(factorial(5))\n"
   ]
  },
  {
   "cell_type": "markdown",
   "id": "96ca84b5",
   "metadata": {},
   "source": [
    "Create a function print_pattern to print a specific pattern of stars."
   ]
  },
  {
   "cell_type": "code",
   "execution_count": 7,
   "id": "3239542e",
   "metadata": {},
   "outputs": [
    {
     "name": "stdout",
     "output_type": "stream",
     "text": [
      "* \n",
      "* * \n",
      "* * * \n",
      "* * * * \n",
      "* * * * * \n"
     ]
    }
   ],
   "source": [
    "def print_pattern(rows):\n",
    "    for i in range(1, rows + 1):\n",
    "        print(\"* \" * i)\n",
    "\n",
    "print_pattern(5)\n"
   ]
  },
  {
   "cell_type": "markdown",
   "id": "dd5ace57",
   "metadata": {},
   "source": [
    "Write a function multiply_numbers with default values for its parameters."
   ]
  },
  {
   "cell_type": "code",
   "execution_count": 8,
   "id": "9165cb2a",
   "metadata": {},
   "outputs": [
    {
     "name": "stdout",
     "output_type": "stream",
     "text": [
      "Product:  20\n"
     ]
    }
   ],
   "source": [
    "def multiply_numbers(a=1, b=1):\n",
    "    return a * b\n",
    "\n",
    "print(\"Product: \", multiply_numbers(4, 5))"
   ]
  },
  {
   "cell_type": "markdown",
   "id": "7cd00e34",
   "metadata": {},
   "source": [
    "Define a function print_info that takes a variable number of arguments and prints them.\n"
   ]
  },
  {
   "cell_type": "code",
   "execution_count": 9,
   "id": "e8b03ed1",
   "metadata": {},
   "outputs": [
    {
     "name": "stdout",
     "output_type": "stream",
     "text": [
      "1 Hello 5.6\n"
     ]
    }
   ],
   "source": [
    "def print_info(*args):\n",
    "    for arg in args:\n",
    "        print(arg)\n",
    "\n",
    "print(1, \"Hello\", 5.6)"
   ]
  },
  {
   "cell_type": "markdown",
   "id": "21006c9c",
   "metadata": {},
   "source": [
    "Create a function power_of_two that accepts a number and returns its square.\n"
   ]
  },
  {
   "cell_type": "code",
   "execution_count": 10,
   "id": "ee003f0d",
   "metadata": {},
   "outputs": [
    {
     "name": "stdout",
     "output_type": "stream",
     "text": [
      "25\n"
     ]
    }
   ],
   "source": [
    "def power_of_two(num):\n",
    "    return num ** 2\n",
    "\n",
    "print(power_of_two(5))"
   ]
  },
  {
   "cell_type": "markdown",
   "id": "8aca7c5d",
   "metadata": {},
   "source": [
    "Define a variable inside a function and try to access it outside the function."
   ]
  },
  {
   "cell_type": "code",
   "execution_count": 12,
   "id": "1eecf2cb",
   "metadata": {},
   "outputs": [
    {
     "ename": "NameError",
     "evalue": "name 'a' is not defined",
     "output_type": "error",
     "traceback": [
      "\u001b[0;31m---------------------------------------------------------------------------\u001b[0m",
      "\u001b[0;31mNameError\u001b[0m                                 Traceback (most recent call last)",
      "Cell \u001b[0;32mIn[12], line 5\u001b[0m\n\u001b[1;32m      2\u001b[0m     a \u001b[39m=\u001b[39m \u001b[39m1\u001b[39m\n\u001b[1;32m      3\u001b[0m     \u001b[39mprint\u001b[39m(a)\n\u001b[0;32m----> 5\u001b[0m \u001b[39mprint\u001b[39m(a) \u001b[39m# this will give a name error\u001b[39;00m\n",
      "\u001b[0;31mNameError\u001b[0m: name 'a' is not defined"
     ]
    }
   ],
   "source": [
    "def my_func():\n",
    "    a = 1\n",
    "    print(a)\n",
    "\n",
    "print(a) # this will give a name error"
   ]
  },
  {
   "cell_type": "markdown",
   "id": "27ef8bea",
   "metadata": {},
   "source": [
    "Write a function that uses a variable from the enclosing scope."
   ]
  },
  {
   "cell_type": "code",
   "execution_count": 15,
   "id": "cf7f3658",
   "metadata": {},
   "outputs": [
    {
     "name": "stdout",
     "output_type": "stream",
     "text": [
      "outer function.\n"
     ]
    }
   ],
   "source": [
    "def outer_function():\n",
    "    outer_variable = \"Outer function.\"\n",
    "\n",
    "    def inner_function():\n",
    "        print(outer_variable)\n",
    "\n",
    "    inner_function()\n",
    "\n",
    "outer_function()\n"
   ]
  },
  {
   "cell_type": "markdown",
   "id": "e4bc1865",
   "metadata": {},
   "source": [
    "Create a global variable and modify it inside a function."
   ]
  },
  {
   "cell_type": "code",
   "execution_count": 14,
   "id": "16466e1d",
   "metadata": {},
   "outputs": [
    {
     "name": "stdout",
     "output_type": "stream",
     "text": [
      "Inside the function: 15\n",
      "Outside the function: 15\n"
     ]
    }
   ],
   "source": [
    "num = 10\n",
    "\n",
    "def modify_global_variable():\n",
    "    global num\n",
    "\n",
    "    num += 5\n",
    "    print(\"Inside the function:\", num)\n",
    "\n",
    "modify_global_variable()\n",
    "\n",
    "print(\"Outside the function:\", num)\n"
   ]
  },
  {
   "cell_type": "markdown",
   "id": "05e33835",
   "metadata": {},
   "source": [
    "Write a lambda function to calculate the cube of a number."
   ]
  },
  {
   "cell_type": "code",
   "execution_count": 16,
   "id": "a1066910",
   "metadata": {},
   "outputs": [
    {
     "name": "stdout",
     "output_type": "stream",
     "text": [
      "27\n"
     ]
    }
   ],
   "source": [
    "cube = lambda x: x**3\n",
    "print(cube(3))"
   ]
  },
  {
   "cell_type": "markdown",
   "id": "835f805c",
   "metadata": {},
   "source": [
    "Use a lambda function as an argument with the map function."
   ]
  },
  {
   "cell_type": "code",
   "execution_count": 19,
   "id": "2c18968f",
   "metadata": {},
   "outputs": [
    {
     "data": {
      "text/plain": [
       "[1, 4, 9, 16, 25]"
      ]
     },
     "execution_count": 19,
     "metadata": {},
     "output_type": "execute_result"
    }
   ],
   "source": [
    "numbers = [1, 2, 3, 4, 5]\n",
    "squared_numbers = list(map(lambda x: x**2, numbers))\n",
    "squared_numbers"
   ]
  },
  {
   "cell_type": "markdown",
   "id": "afd4b510",
   "metadata": {},
   "source": [
    "Use a lambda function with the filter function to filter even numbers from a list."
   ]
  },
  {
   "cell_type": "code",
   "execution_count": 20,
   "id": "8b02f236",
   "metadata": {},
   "outputs": [
    {
     "data": {
      "text/plain": [
       "[2, 4, 6]"
      ]
     },
     "execution_count": 20,
     "metadata": {},
     "output_type": "execute_result"
    }
   ],
   "source": [
    "numbers = [1, 2, 3, 4, 5, 6]\n",
    "even_numbers = list(filter(lambda x: x % 2 == 0, numbers))\n",
    "even_numbers"
   ]
  },
  {
   "cell_type": "markdown",
   "id": "3b36cb84",
   "metadata": {},
   "source": [
    "Apply a lambda function with the reduce function to find the product of a list."
   ]
  },
  {
   "cell_type": "code",
   "execution_count": 21,
   "id": "a5d035b3",
   "metadata": {},
   "outputs": [
    {
     "data": {
      "text/plain": [
       "120"
      ]
     },
     "execution_count": 21,
     "metadata": {},
     "output_type": "execute_result"
    }
   ],
   "source": [
    "from functools import reduce\n",
    "\n",
    "numbers = [1, 2, 3, 4, 5]\n",
    "product = reduce(lambda x, y: x * y, numbers)\n",
    "product"
   ]
  },
  {
   "cell_type": "markdown",
   "id": "1462df0e",
   "metadata": {},
   "source": [
    "Sort a list of tuples based on the second element using a lambda function."
   ]
  },
  {
   "cell_type": "code",
   "execution_count": 22,
   "id": "74e28382",
   "metadata": {},
   "outputs": [
    {
     "data": {
      "text/plain": [
       "[(3, 2), (1, 5), (2, 8)]"
      ]
     },
     "execution_count": 22,
     "metadata": {},
     "output_type": "execute_result"
    }
   ],
   "source": [
    "list_of_tuple = [(1, 5), (3, 2), (2, 8)]\n",
    "sorted_data = sorted(list_of_tuple, key=lambda x: x[1])\n",
    "sorted_data"
   ]
  },
  {
   "cell_type": "markdown",
   "id": "c0978a54",
   "metadata": {},
   "source": [
    "Demonstrate the use of the zip function with two lists."
   ]
  },
  {
   "cell_type": "code",
   "execution_count": 23,
   "id": "9d41c722",
   "metadata": {},
   "outputs": [
    {
     "data": {
      "text/plain": [
       "[(1, 'a'), (2, 'b'), (3, 'c')]"
      ]
     },
     "execution_count": 23,
     "metadata": {},
     "output_type": "execute_result"
    }
   ],
   "source": [
    "list1 = [1, 2, 3]\n",
    "list2 = ['a', 'b', 'c']\n",
    "zipped_lists = list(zip(list1, list2))\n",
    "zipped_lists"
   ]
  },
  {
   "cell_type": "markdown",
   "id": "00d634fa",
   "metadata": {},
   "source": [
    "Implement a generator function that generates Fibonacci numbers."
   ]
  },
  {
   "cell_type": "code",
   "execution_count": 32,
   "id": "6cd6a877",
   "metadata": {},
   "outputs": [
    {
     "name": "stdout",
     "output_type": "stream",
     "text": [
      "0\n",
      "1\n",
      "1\n",
      "2\n",
      "3\n",
      "5\n",
      "8\n",
      "13\n",
      "21\n",
      "34\n",
      "55\n",
      "89\n",
      "144\n"
     ]
    }
   ],
   "source": [
    "def fibonacci_generator():\n",
    "    a, b = 0, 1\n",
    "    while True:\n",
    "        yield a\n",
    "        a, b = b, a + b\n",
    "\n",
    "for i in fibonacci_generator():\n",
    "    print(i)\n",
    "    if i > 100:\n",
    "        break"
   ]
  },
  {
   "cell_type": "markdown",
   "id": "cfdbada2",
   "metadata": {},
   "source": [
    "Use a generator expression to create a sequence of squares."
   ]
  },
  {
   "cell_type": "code",
   "execution_count": 37,
   "id": "8261d6f6",
   "metadata": {},
   "outputs": [
    {
     "name": "stdout",
     "output_type": "stream",
     "text": [
      "1\n",
      "4\n",
      "9\n",
      "16\n",
      "25\n"
     ]
    }
   ],
   "source": [
    "squares_generator = (x**2 for x in range(1, 6))\n",
    "for num in squares_generator:\n",
    "    print(num)"
   ]
  },
  {
   "cell_type": "markdown",
   "id": "c1732ffe",
   "metadata": {},
   "source": [
    "Write a function that uses the yield statement to produce a generator."
   ]
  },
  {
   "cell_type": "code",
   "execution_count": 39,
   "id": "77d601a1",
   "metadata": {},
   "outputs": [
    {
     "name": "stdout",
     "output_type": "stream",
     "text": [
      "1\n",
      "4\n",
      "9\n",
      "16\n",
      "25\n"
     ]
    }
   ],
   "source": [
    "def square_generator():\n",
    "    for i in range(1, 6):\n",
    "        yield i**2\n",
    "\n",
    "for x in square_generator():\n",
    "    print(x)"
   ]
  },
  {
   "cell_type": "markdown",
   "id": "413bf1e2",
   "metadata": {},
   "source": [
    "Explain the difference between iterators and generators in Python."
   ]
  },
  {
   "cell_type": "code",
   "execution_count": 40,
   "id": "8b944f0e",
   "metadata": {},
   "outputs": [],
   "source": [
    "# Iterators are objects that implement the __iter__ and __next__ methods of class.\n",
    "# Generators are a type of iterator created using a function with the yield statement."
   ]
  },
  {
   "cell_type": "markdown",
   "id": "0d59b556",
   "metadata": {},
   "source": [
    "Write a Python program that includes a nested function. Inside the nested function, access a variable from the enclosing function's scope, and explain how the scope resolution works in this case."
   ]
  },
  {
   "cell_type": "code",
   "execution_count": 42,
   "id": "992f17dd",
   "metadata": {},
   "outputs": [
    {
     "name": "stdout",
     "output_type": "stream",
     "text": [
      "Accessing variable from enclosing scope: 10\n"
     ]
    }
   ],
   "source": [
    "# nested functions in Python have access to variables in their enclosing scopes,\n",
    "# and this is known as lexical scoping or closure. The inner function can access\n",
    "# variables from the outer function's scope even after the outer function has finished executing.\n",
    "\n",
    "def outer_function():\n",
    "    x = 10\n",
    "    def inner_function():\n",
    "        print(f\"Accessing variable from enclosing scope: {x}\")\n",
    "    inner_function()\n",
    "\n",
    "\n",
    "outer_function()\n"
   ]
  },
  {
   "cell_type": "markdown",
   "id": "a945086c",
   "metadata": {},
   "source": [
    "Create a list of strings containing both uppercase and lowercase words. Use a lambda function with the sorted() function to sort the list in a case-insensitive manner."
   ]
  },
  {
   "cell_type": "code",
   "execution_count": 43,
   "id": "d6445a64",
   "metadata": {},
   "outputs": [
    {
     "data": {
      "text/plain": [
       "['Apple', 'banana', 'grape', 'Orange']"
      ]
     },
     "execution_count": 43,
     "metadata": {},
     "output_type": "execute_result"
    }
   ],
   "source": [
    "word_list = ['Apple', 'banana', 'Orange', 'grape']\n",
    "sorted_list = sorted(word_list, key=lambda x: x.lower())\n",
    "sorted_list"
   ]
  },
  {
   "cell_type": "markdown",
   "id": "9b5aa572",
   "metadata": {},
   "source": [
    "Implement a generator function that yields prime numbers indefinitely. Use this generator to print the first 10 prime numbers."
   ]
  },
  {
   "cell_type": "code",
   "execution_count": 44,
   "id": "86f1ead1",
   "metadata": {},
   "outputs": [
    {
     "name": "stdout",
     "output_type": "stream",
     "text": [
      "2\n",
      "3\n",
      "5\n",
      "7\n",
      "11\n",
      "13\n",
      "17\n",
      "19\n",
      "23\n",
      "29\n"
     ]
    }
   ],
   "source": [
    "def prime_generator():\n",
    "    num = 2\n",
    "    primes = []\n",
    "    while True:\n",
    "        prime = is_prime(num) # used is_prime from above questions\n",
    "        if prime:\n",
    "            primes.append(num)\n",
    "            yield num\n",
    "        num += 1\n",
    "\n",
    "prime_gen = prime_generator()\n",
    "for _ in range(10):\n",
    "    print(next(prime_gen))\n"
   ]
  },
  {
   "cell_type": "markdown",
   "id": "e3b956a8",
   "metadata": {},
   "source": [
    "Write a decorator function that measures the execution time of another function. Apply this decorator to a function of your choice and print the execution time."
   ]
  },
  {
   "cell_type": "code",
   "execution_count": 45,
   "id": "ebbab120",
   "metadata": {},
   "outputs": [
    {
     "name": "stdout",
     "output_type": "stream",
     "text": [
      "* \n",
      "* * \n",
      "* * * \n",
      "* * * * \n",
      "* * * * * \n",
      "Execution time of print_pattern: 0.00032 seconds\n"
     ]
    }
   ],
   "source": [
    "from functools import wraps\n",
    "import time\n",
    "\n",
    "def measure_time(func):\n",
    "    @wraps(func)\n",
    "    def wrapper(*args, **kwargs):\n",
    "        start_time = time.time()\n",
    "        result = func(*args, **kwargs)\n",
    "        end_time = time.time()\n",
    "        print(f\"Execution time of {func.__name__}: {end_time - start_time:.5f} seconds\")\n",
    "        return result\n",
    "    return wrapper\n",
    "\n",
    "# Example usage:\n",
    "@measure_time\n",
    "def print_pattern(rows):\n",
    "    for i in range(1, rows + 1):\n",
    "        print(\"* \" * i)\n",
    "\n",
    "print_pattern(5)\n"
   ]
  },
  {
   "cell_type": "markdown",
   "id": "e2bbd3e3",
   "metadata": {},
   "source": []
  }
 ],
 "metadata": {
  "kernelspec": {
   "display_name": "Python 3 (ipykernel)",
   "language": "python",
   "name": "python3"
  },
  "language_info": {
   "codemirror_mode": {
    "name": "ipython",
    "version": 3
   },
   "file_extension": ".py",
   "mimetype": "text/x-python",
   "name": "python",
   "nbconvert_exporter": "python",
   "pygments_lexer": "ipython3",
   "version": "3.11.5"
  }
 },
 "nbformat": 4,
 "nbformat_minor": 5
}
